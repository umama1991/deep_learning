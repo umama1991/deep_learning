{
 "cells": [
  {
   "cell_type": "markdown",
   "id": "134468c3",
   "metadata": {},
   "source": [
    "### Our text to be vectorized "
   ]
  },
  {
   "cell_type": "code",
   "execution_count": 18,
   "id": "32fc418b",
   "metadata": {},
   "outputs": [],
   "source": [
    "paragraph = \"\"\"Khan was born in Lahore on 5 October 1952.\n",
    "Some reports suggest he was born on 25 November 1952.\n",
    "It was reported that 25 November was wrongly mentioned by Pakistan Cricket Board officials on his passport. \n",
    "He is the only son of Ikramullah Khan Niazi, a civil engineer, and his wife Shaukat Khanum, and has four sisters.\n",
    "Long settled in Mianwali in northwestern Punjab, his paternal family are of Pashtun ethnicity and belong to the \n",
    "Niazi tribe,and one of his ancestors, Haibat Khan Niazi, in the 16th century, \"was one of Sher Shah Suri's leading generals, \n",
    "as well as being the governor of Punjab. Like his father, Khan's mother was an ethnic Pashtun, who belonged \n",
    "to the Burki tribe and whose ancestors had been settled in the Jalandhar district of Punjab for centuries. \n",
    "Following the creation of Pakistan, she migrated to Lahore with the rest of Khan's maternal relatives. \n",
    "Khan's maternal family has produced a number of cricketers, including those who have represented Pakistan,\n",
    "such as his cousins Javed Burki and Majid Khan. Maternally, Khan is also a descendant of the Sufi warrior-poet \n",
    "and inventor of the Pashto alphabet,Pir Roshan, who hailed from his maternal family's ancestral Kaniguram town \n",
    "located in South Waziristan in the tribal areas of northwest Pakistan. His maternal family was based in Basti Danishmanda,\n",
    "Jalandhar, India for about 600 years. A quiet and shy boy in his youth, Khan grew up with his sisters in relatively\n",
    "affluent, upper middle-class circumstances and received a privileged education. He was educated at the Aitchison College\n",
    "and Cathedral School in Lahore,and then the Royal Grammar School Worcester in England, where he excelled at cricket.\n",
    "In 1972, he enrolled in Keble College, Oxford where he studied Philosophy, Politics and Economics, graduating in 1975.\n",
    "An enthusiast for college cricket at Keble, Paul Hayes, was instrumental in securing the admission of Khan,after he had\n",
    "been turned down by Cambridge.\"\"\"\n"
   ]
  },
  {
   "cell_type": "code",
   "execution_count": 38,
   "id": "27e576ff",
   "metadata": {},
   "outputs": [],
   "source": [
    "import nltk\n",
    "from nltk.corpus import stopwords\n",
    "stopwords = stopwords.words('english')\n",
    "words = nltk.word_tokenize(paragraph)\n",
    "# words"
   ]
  },
  {
   "cell_type": "code",
   "execution_count": 36,
   "id": "be5500ec",
   "metadata": {},
   "outputs": [
    {
     "data": {
      "text/plain": [
       "\"Khan born Lahore 5 October 1952 . Some reports suggest born 25 November 1952 . It reported 25 November wrongly mentioned Pakistan Cricket Board officials passport . He son Ikramullah Khan Niazi , civil engineer , wife Shaukat Khanum , four sisters . Long settled Mianwali northwestern Punjab , paternal family Pashtun ethnicity belong Niazi tribe , one ancestors , Haibat Khan Niazi , 16th century , `` one Sher Shah Suri 's leading generals , well governor Punjab . Like father , Khan 's mother ethnic Pashtun , belonged Burki tribe whose ancestors settled Jalandhar district Punjab centuries . Following creation Pakistan , migrated Lahore rest Khan 's maternal relatives . Khan 's maternal family produced number cricketers , including represented Pakistan , cousins Javed Burki Majid Khan . Maternally , Khan also descendant Sufi warrior-poet inventor Pashto alphabet , Pir Roshan , hailed maternal family 's ancestral Kaniguram town located South Waziristan tribal areas northwest Pakistan . His maternal family based Basti Danishmanda , Jalandhar , India 600 years . A quiet shy boy youth , Khan grew sisters relatively affluent , upper middle-class circumstances received privileged education . He educated Aitchison College Cathedral School Lahore , Royal Grammar School Worcester England , excelled cricket . In 1972 , enrolled Keble College , Oxford studied Philosophy , Politics Economics , graduating 1975 . An enthusiast college cricket Keble , Paul Hayes , instrumental securing admission Khan , turned Cambridge . \""
      ]
     },
     "execution_count": 36,
     "metadata": {},
     "output_type": "execute_result"
    }
   ],
   "source": [
    "text = ''\n",
    "for word in words:\n",
    "    if word not in stopwords:\n",
    "        text +=word+ \" \""
   ]
  },
  {
   "cell_type": "markdown",
   "id": "5eec32ff",
   "metadata": {},
   "source": [
    "### Breaking paragraph at sentence level"
   ]
  },
  {
   "cell_type": "code",
   "execution_count": 7,
   "id": "20472725",
   "metadata": {},
   "outputs": [
    {
     "name": "stdout",
     "output_type": "stream",
     "text": [
      "Khan\n",
      "\n",
      "was\n",
      "\n",
      "born\n",
      "\n",
      "in\n",
      "\n",
      "Lahore\n",
      "\n",
      "on\n",
      "\n",
      "5\n",
      "\n",
      "October\n",
      "\n",
      "1952\n",
      "\n",
      ".\n",
      "\n",
      "Some\n",
      "\n",
      "reports\n",
      "\n",
      "suggest\n",
      "\n",
      "he\n",
      "\n",
      "was\n",
      "\n",
      "born\n",
      "\n",
      "on\n",
      "\n",
      "25\n",
      "\n",
      "November\n",
      "\n",
      "1952\n",
      "\n",
      ".\n",
      "\n",
      "It\n",
      "\n",
      "was\n",
      "\n",
      "reported\n",
      "\n",
      "that\n",
      "\n",
      "25\n",
      "\n",
      "November\n",
      "\n",
      "was\n",
      "\n",
      "wrongly\n",
      "\n",
      "mentioned\n",
      "\n",
      "by\n",
      "\n",
      "Pakistan\n",
      "\n",
      "Cricket\n",
      "\n",
      "Board\n",
      "\n",
      "officials\n",
      "\n",
      "on\n",
      "\n",
      "his\n",
      "\n",
      "passport\n",
      "\n",
      ".\n",
      "\n",
      "He\n",
      "\n",
      "is\n",
      "\n",
      "the\n",
      "\n",
      "only\n",
      "\n",
      "son\n",
      "\n",
      "of\n",
      "\n",
      "Ikramullah\n",
      "\n",
      "Khan\n",
      "\n",
      "Niazi\n",
      "\n",
      ",\n",
      "\n",
      "a\n",
      "\n",
      "civil\n",
      "\n",
      "engineer\n",
      "\n",
      ",\n",
      "\n",
      "and\n",
      "\n",
      "his\n",
      "\n",
      "wife\n",
      "\n",
      "Shaukat\n",
      "\n",
      "Khanum\n",
      "\n",
      ",\n",
      "\n",
      "and\n",
      "\n",
      "has\n",
      "\n",
      "four\n",
      "\n",
      "sisters\n",
      "\n",
      ".\n",
      "\n",
      "Long\n",
      "\n",
      "settled\n",
      "\n",
      "in\n",
      "\n",
      "Mianwali\n",
      "\n",
      "in\n",
      "\n",
      "northwestern\n",
      "\n",
      "Punjab\n",
      "\n",
      ",\n",
      "\n",
      "his\n",
      "\n",
      "paternal\n",
      "\n",
      "family\n",
      "\n",
      "are\n",
      "\n",
      "of\n",
      "\n",
      "Pashtun\n",
      "\n",
      "ethnicity\n",
      "\n",
      "and\n",
      "\n",
      "belong\n",
      "\n",
      "to\n",
      "\n",
      "the\n",
      "\n",
      "Niazi\n",
      "\n",
      "tribe\n",
      "\n",
      ",\n",
      "\n",
      "and\n",
      "\n",
      "one\n",
      "\n",
      "of\n",
      "\n",
      "his\n",
      "\n",
      "ancestors\n",
      "\n",
      ",\n",
      "\n",
      "Haibat\n",
      "\n",
      "Khan\n",
      "\n",
      "Niazi\n",
      "\n",
      ",\n",
      "\n",
      "in\n",
      "\n",
      "the\n",
      "\n",
      "16th\n",
      "\n",
      "century\n",
      "\n",
      ",\n",
      "\n",
      "``\n",
      "\n",
      "was\n",
      "\n",
      "one\n",
      "\n",
      "of\n",
      "\n",
      "Sher\n",
      "\n",
      "Shah\n",
      "\n",
      "Suri\n",
      "\n",
      "'s\n",
      "\n",
      "leading\n",
      "\n",
      "generals\n",
      "\n",
      ",\n",
      "\n",
      "as\n",
      "\n",
      "well\n",
      "\n",
      "as\n",
      "\n",
      "being\n",
      "\n",
      "the\n",
      "\n",
      "governor\n",
      "\n",
      "of\n",
      "\n",
      "Punjab\n",
      "\n",
      ".\n",
      "\n",
      "Like\n",
      "\n",
      "his\n",
      "\n",
      "father\n",
      "\n",
      ",\n",
      "\n",
      "Khan\n",
      "\n",
      "'s\n",
      "\n",
      "mother\n",
      "\n",
      "was\n",
      "\n",
      "an\n",
      "\n",
      "ethnic\n",
      "\n",
      "Pashtun\n",
      "\n",
      ",\n",
      "\n",
      "who\n",
      "\n",
      "belonged\n",
      "\n",
      "to\n",
      "\n",
      "the\n",
      "\n",
      "Burki\n",
      "\n",
      "tribe\n",
      "\n",
      "and\n",
      "\n",
      "whose\n",
      "\n",
      "ancestors\n",
      "\n",
      "had\n",
      "\n",
      "been\n",
      "\n",
      "settled\n",
      "\n",
      "in\n",
      "\n",
      "the\n",
      "\n",
      "Jalandhar\n",
      "\n",
      "district\n",
      "\n",
      "of\n",
      "\n",
      "Punjab\n",
      "\n",
      "for\n",
      "\n",
      "centuries\n",
      "\n",
      ".\n",
      "\n",
      "Following\n",
      "\n",
      "the\n",
      "\n",
      "creation\n",
      "\n",
      "of\n",
      "\n",
      "Pakistan\n",
      "\n",
      ",\n",
      "\n",
      "she\n",
      "\n",
      "migrated\n",
      "\n",
      "to\n",
      "\n",
      "Lahore\n",
      "\n",
      "with\n",
      "\n",
      "the\n",
      "\n",
      "rest\n",
      "\n",
      "of\n",
      "\n",
      "Khan\n",
      "\n",
      "'s\n",
      "\n",
      "maternal\n",
      "\n",
      "relatives\n",
      "\n",
      ".\n",
      "\n",
      "Khan\n",
      "\n",
      "'s\n",
      "\n",
      "maternal\n",
      "\n",
      "family\n",
      "\n",
      "has\n",
      "\n",
      "produced\n",
      "\n",
      "a\n",
      "\n",
      "number\n",
      "\n",
      "of\n",
      "\n",
      "cricketers\n",
      "\n",
      ",\n",
      "\n",
      "including\n",
      "\n",
      "those\n",
      "\n",
      "who\n",
      "\n",
      "have\n",
      "\n",
      "represented\n",
      "\n",
      "Pakistan\n",
      "\n",
      ",\n",
      "\n",
      "such\n",
      "\n",
      "as\n",
      "\n",
      "his\n",
      "\n",
      "cousins\n",
      "\n",
      "Javed\n",
      "\n",
      "Burki\n",
      "\n",
      "and\n",
      "\n",
      "Majid\n",
      "\n",
      "Khan\n",
      "\n",
      ".\n",
      "\n",
      "Maternally\n",
      "\n",
      ",\n",
      "\n",
      "Khan\n",
      "\n",
      "is\n",
      "\n",
      "also\n",
      "\n",
      "a\n",
      "\n",
      "descendant\n",
      "\n",
      "of\n",
      "\n",
      "the\n",
      "\n",
      "Sufi\n",
      "\n",
      "warrior-poet\n",
      "\n",
      "and\n",
      "\n",
      "inventor\n",
      "\n",
      "of\n",
      "\n",
      "the\n",
      "\n",
      "Pashto\n",
      "\n",
      "alphabet\n",
      "\n",
      ",\n",
      "\n",
      "Pir\n",
      "\n",
      "Roshan\n",
      "\n",
      ",\n",
      "\n",
      "who\n",
      "\n",
      "hailed\n",
      "\n",
      "from\n",
      "\n",
      "his\n",
      "\n",
      "maternal\n",
      "\n",
      "family\n",
      "\n",
      "'s\n",
      "\n",
      "ancestral\n",
      "\n",
      "Kaniguram\n",
      "\n",
      "town\n",
      "\n",
      "located\n",
      "\n",
      "in\n",
      "\n",
      "South\n",
      "\n",
      "Waziristan\n",
      "\n",
      "in\n",
      "\n",
      "the\n",
      "\n",
      "tribal\n",
      "\n",
      "areas\n",
      "\n",
      "of\n",
      "\n",
      "northwest\n",
      "\n",
      "Pakistan\n",
      "\n",
      ".\n",
      "\n",
      "His\n",
      "\n",
      "maternal\n",
      "\n",
      "family\n",
      "\n",
      "was\n",
      "\n",
      "based\n",
      "\n",
      "in\n",
      "\n",
      "Basti\n",
      "\n",
      "Danishmanda\n",
      "\n",
      ",\n",
      "\n",
      "Jalandhar\n",
      "\n",
      ",\n",
      "\n",
      "India\n",
      "\n",
      "for\n",
      "\n",
      "about\n",
      "\n",
      "600\n",
      "\n",
      "years\n",
      "\n",
      ".\n",
      "\n",
      "A\n",
      "\n",
      "quiet\n",
      "\n",
      "and\n",
      "\n",
      "shy\n",
      "\n",
      "boy\n",
      "\n",
      "in\n",
      "\n",
      "his\n",
      "\n",
      "youth\n",
      "\n",
      ",\n",
      "\n",
      "Khan\n",
      "\n",
      "grew\n",
      "\n",
      "up\n",
      "\n",
      "with\n",
      "\n",
      "his\n",
      "\n",
      "sisters\n",
      "\n",
      "in\n",
      "\n",
      "relatively\n",
      "\n",
      "affluent\n",
      "\n",
      ",\n",
      "\n",
      "upper\n",
      "\n",
      "middle-class\n",
      "\n",
      "circumstances\n",
      "\n",
      "and\n",
      "\n",
      "received\n",
      "\n",
      "a\n",
      "\n",
      "privileged\n",
      "\n",
      "education\n",
      "\n",
      ".\n",
      "\n",
      "He\n",
      "\n",
      "was\n",
      "\n",
      "educated\n",
      "\n",
      "at\n",
      "\n",
      "the\n",
      "\n",
      "Aitchison\n",
      "\n",
      "College\n",
      "\n",
      "and\n",
      "\n",
      "Cathedral\n",
      "\n",
      "School\n",
      "\n",
      "in\n",
      "\n",
      "Lahore\n",
      "\n",
      ",\n",
      "\n",
      "and\n",
      "\n",
      "then\n",
      "\n",
      "the\n",
      "\n",
      "Royal\n",
      "\n",
      "Grammar\n",
      "\n",
      "School\n",
      "\n",
      "Worcester\n",
      "\n",
      "in\n",
      "\n",
      "England\n",
      "\n",
      ",\n",
      "\n",
      "where\n",
      "\n",
      "he\n",
      "\n",
      "excelled\n",
      "\n",
      "at\n",
      "\n",
      "cricket\n",
      "\n",
      ".\n",
      "\n",
      "In\n",
      "\n",
      "1972\n",
      "\n",
      ",\n",
      "\n",
      "he\n",
      "\n",
      "enrolled\n",
      "\n",
      "in\n",
      "\n",
      "Keble\n",
      "\n",
      "College\n",
      "\n",
      ",\n",
      "\n",
      "Oxford\n",
      "\n",
      "where\n",
      "\n",
      "he\n",
      "\n",
      "studied\n",
      "\n",
      "Philosophy\n",
      "\n",
      ",\n",
      "\n",
      "Politics\n",
      "\n",
      "and\n",
      "\n",
      "Economics\n",
      "\n",
      ",\n",
      "\n",
      "graduating\n",
      "\n",
      "in\n",
      "\n",
      "1975\n",
      "\n",
      ".\n",
      "\n",
      "An\n",
      "\n",
      "enthusiast\n",
      "\n",
      "for\n",
      "\n",
      "college\n",
      "\n",
      "cricket\n",
      "\n",
      "at\n",
      "\n",
      "Keble\n",
      "\n",
      ",\n",
      "\n",
      "Paul\n",
      "\n",
      "Hayes\n",
      "\n",
      ",\n",
      "\n",
      "was\n",
      "\n",
      "instrumental\n",
      "\n",
      "in\n",
      "\n",
      "securing\n",
      "\n",
      "the\n",
      "\n",
      "admission\n",
      "\n",
      "of\n",
      "\n",
      "Khan\n",
      "\n",
      ",\n",
      "\n",
      "after\n",
      "\n",
      "he\n",
      "\n",
      "had\n",
      "\n",
      "been\n",
      "\n",
      "turned\n",
      "\n",
      "down\n",
      "\n",
      "by\n",
      "\n",
      "Cambridge\n",
      "\n",
      ".\n",
      "\n"
     ]
    }
   ],
   "source": [
    "sentences = nltk.word_tokenize(paragraph)\n",
    "#print each sentence seaprately \n",
    "for sent in sentences:\n",
    "    print(sent)\n",
    "    print()\n",
    "# sentences"
   ]
  },
  {
   "cell_type": "markdown",
   "id": "eb99116a",
   "metadata": {},
   "source": [
    "#### Using regular expression for dropping all text except capital and small characters and numbersfrom  0 to 9 "
   ]
  },
  {
   "cell_type": "code",
   "execution_count": 41,
   "id": "54f6224c",
   "metadata": {},
   "outputs": [
    {
     "data": {
      "text/plain": [
       "['Khan born Lahore 5 October 1952 ',\n",
       " ' Some reports suggest born 25 November 1952 ',\n",
       " ' It reported 25 November wrongly mentioned Pakistan Cricket Board officials passport ',\n",
       " ' He son Ikramullah Khan Niazi  civil engineer  wife Shaukat Khanum  four sisters ',\n",
       " ' Long settled Mianwali northwestern Punjab  paternal family Pashtun ethnicity belong Niazi tribe  one ancestors  Haibat Khan Niazi  16th century   one Sher Shah Suri s leading generals  well governor Punjab ',\n",
       " ' Like father  Khan s mother ethnic Pashtun  belonged Burki tribe whose ancestors settled Jalandhar district Punjab centuries ',\n",
       " ' Following creation Pakistan  migrated Lahore rest Khan s maternal relatives ',\n",
       " ' Khan s maternal family produced number cricketers  including represented Pakistan  cousins Javed Burki Majid Khan ',\n",
       " ' Maternally  Khan also descendant Sufi warriorpoet inventor Pashto alphabet  Pir Roshan  hailed maternal family s ancestral Kaniguram town located South Waziristan tribal areas northwest Pakistan ',\n",
       " ' His maternal family based Basti Danishmanda  Jalandhar  India 600 years ',\n",
       " ' A quiet shy boy youth  Khan grew sisters relatively affluent  upper middleclass circumstances received privileged education ',\n",
       " ' He educated Aitchison College Cathedral School Lahore  Royal Grammar School Worcester England  excelled cricket ',\n",
       " ' In 1972  enrolled Keble College  Oxford studied Philosophy  Politics Economics  graduating 1975 ',\n",
       " ' An enthusiast college cricket Keble  Paul Hayes  instrumental securing admission Khan  turned Cambridge ',\n",
       " ' ']"
      ]
     },
     "execution_count": 41,
     "metadata": {},
     "output_type": "execute_result"
    }
   ],
   "source": [
    "import string \n",
    "punctuations = string.punctuation\n",
    "\n",
    "\n",
    "def remove_punc(text):\n",
    "    refined_text = \"\"\n",
    "    for char in text:\n",
    "        if char not in punctuations or char==\".\":\n",
    "            refined_text +=char\n",
    "    return refined_text\n",
    "\n",
    "refined_text = remove_punc(text)\n",
    "# import re\n",
    "# corpus = []\n",
    "# for sent in sentences:\n",
    "#     corpus.append(re.sub('[^a-zA-Z0-9]',\" \",sent).lower())\n",
    "# print(corpus)\n",
    "corpus = refined_text.split('.')\n",
    "corpus"
   ]
  },
  {
   "cell_type": "markdown",
   "id": "2b5a2e19",
   "metadata": {},
   "source": [
    "### Printing each doc in corpus separately just to view \n"
   ]
  },
  {
   "cell_type": "code",
   "execution_count": 42,
   "id": "b3c1663c",
   "metadata": {},
   "outputs": [
    {
     "name": "stdout",
     "output_type": "stream",
     "text": [
      "0 Khan born Lahore 5 October 1952 \n",
      "1  Some reports suggest born 25 November 1952 \n",
      "2  It reported 25 November wrongly mentioned Pakistan Cricket Board officials passport \n",
      "3  He son Ikramullah Khan Niazi  civil engineer  wife Shaukat Khanum  four sisters \n",
      "4  Long settled Mianwali northwestern Punjab  paternal family Pashtun ethnicity belong Niazi tribe  one ancestors  Haibat Khan Niazi  16th century   one Sher Shah Suri s leading generals  well governor Punjab \n",
      "5  Like father  Khan s mother ethnic Pashtun  belonged Burki tribe whose ancestors settled Jalandhar district Punjab centuries \n",
      "6  Following creation Pakistan  migrated Lahore rest Khan s maternal relatives \n",
      "7  Khan s maternal family produced number cricketers  including represented Pakistan  cousins Javed Burki Majid Khan \n",
      "8  Maternally  Khan also descendant Sufi warriorpoet inventor Pashto alphabet  Pir Roshan  hailed maternal family s ancestral Kaniguram town located South Waziristan tribal areas northwest Pakistan \n",
      "9  His maternal family based Basti Danishmanda  Jalandhar  India 600 years \n",
      "10  A quiet shy boy youth  Khan grew sisters relatively affluent  upper middleclass circumstances received privileged education \n",
      "11  He educated Aitchison College Cathedral School Lahore  Royal Grammar School Worcester England  excelled cricket \n",
      "12  In 1972  enrolled Keble College  Oxford studied Philosophy  Politics Economics  graduating 1975 \n",
      "13  An enthusiast college cricket Keble  Paul Hayes  instrumental securing admission Khan  turned Cambridge \n",
      "14  \n"
     ]
    }
   ],
   "source": [
    "for doc_number, corp in enumerate(corpus):\n",
    "    print(f\"{doc_number} {corp}\")"
   ]
  },
  {
   "cell_type": "markdown",
   "id": "4b629ce9",
   "metadata": {},
   "source": [
    "### Use of stemmer to convert the original word to base word and filtering stopwords "
   ]
  },
  {
   "cell_type": "code",
   "execution_count": 57,
   "id": "41752edd",
   "metadata": {},
   "outputs": [],
   "source": [
    "from nltk.stem import PorterStemmer  # allows to redefine the word on its root word\n",
    "from nltk.corpus import stopwords    # are the words that donot have direct impact on semantics of documents \n",
    "\n",
    "stemmer = PorterStemmer()\n",
    "stemmed_corpus = []\n",
    "stop_words = []\n",
    "# separating words and stop words and applying stemming on words.\n",
    "for sent in corpus:\n",
    "    stemmed_doc = \"\"\n",
    "    words = nltk.word_tokenize(sent)\n",
    "    for word in words:\n",
    "        if word not in stopwords.words('english'):\n",
    "            stemmed_doc +=stemmer.stem(word)+ \" \"\n",
    "        else:\n",
    "            stop_words.append(word)\n",
    "    stemmed_corpus.append(stemmed_doc)\n"
   ]
  },
  {
   "cell_type": "code",
   "execution_count": 58,
   "id": "9923fa8e",
   "metadata": {},
   "outputs": [
    {
     "data": {
      "text/plain": [
       "['khan born lahor 5 octob 1952 ',\n",
       " 'some report suggest born 25 novemb 1952 ',\n",
       " 'It report 25 novemb wrongli mention pakistan cricket board offici passport ',\n",
       " 'He son ikramullah khan niazi civil engin wife shaukat khanum four sister ',\n",
       " 'long settl mianwali northwestern punjab patern famili pashtun ethnic belong niazi tribe one ancestor haibat khan niazi 16th centuri one sher shah suri lead gener well governor punjab ',\n",
       " 'like father khan mother ethnic pashtun belong burki tribe whose ancestor settl jalandhar district punjab centuri ',\n",
       " 'follow creation pakistan migrat lahor rest khan matern rel ',\n",
       " 'khan matern famili produc number cricket includ repres pakistan cousin jave burki majid khan ',\n",
       " 'matern khan also descend sufi warriorpoet inventor pashto alphabet pir roshan hail matern famili ancestr kaniguram town locat south waziristan tribal area northwest pakistan ',\n",
       " 'hi matern famili base basti danishmanda jalandhar india 600 year ',\n",
       " 'A quiet shi boy youth khan grew sister rel affluent upper middleclass circumst receiv privileg educ ',\n",
       " 'He educ aitchison colleg cathedr school lahor royal grammar school worcest england excel cricket ',\n",
       " 'In 1972 enrol kebl colleg oxford studi philosophi polit econom graduat 1975 ',\n",
       " 'An enthusiast colleg cricket kebl paul hay instrument secur admiss khan turn cambridg ',\n",
       " '']"
      ]
     },
     "execution_count": 58,
     "metadata": {},
     "output_type": "execute_result"
    }
   ],
   "source": [
    "stemmed_corpus"
   ]
  },
  {
   "cell_type": "markdown",
   "id": "d9056b2c",
   "metadata": {},
   "source": [
    "### all the words other-than stop words after applying stemming "
   ]
  },
  {
   "cell_type": "code",
   "execution_count": 59,
   "id": "ac85ee78",
   "metadata": {},
   "outputs": [
    {
     "name": "stdout",
     "output_type": "stream",
     "text": [
      "khan born lahor 5 octob 1952  some report suggest born 25 novemb 1952  It report 25 novemb wrongli mention pakistan cricket board offici passport  He son ikramullah khan niazi civil engin wife shaukat khanum four sister  long settl mianwali northwestern punjab patern famili pashtun ethnic belong niazi tribe one ancestor haibat khan niazi 16th centuri one sher shah suri lead gener well governor punjab  like father khan mother ethnic pashtun belong burki tribe whose ancestor settl jalandhar district punjab centuri  follow creation pakistan migrat lahor rest khan matern rel  khan matern famili produc number cricket includ repres pakistan cousin jave burki majid khan  matern khan also descend sufi warriorpoet inventor pashto alphabet pir roshan hail matern famili ancestr kaniguram town locat south waziristan tribal area northwest pakistan  hi matern famili base basti danishmanda jalandhar india 600 year  A quiet shi boy youth khan grew sister rel affluent upper middleclass circumst receiv privileg educ  He educ aitchison colleg cathedr school lahor royal grammar school worcest england excel cricket  In 1972 enrol kebl colleg oxford studi philosophi polit econom graduat 1975  An enthusiast colleg cricket kebl paul hay instrument secur admiss khan turn cambridg   "
     ]
    }
   ],
   "source": [
    "for stemmedword in stemmed_corpus:\n",
    "    print(stemmedword, end=\" \")"
   ]
  },
  {
   "cell_type": "markdown",
   "id": "845bb212",
   "metadata": {},
   "source": [
    "### Example to unserstand what a stemmer do"
   ]
  },
  {
   "cell_type": "code",
   "execution_count": 60,
   "id": "f7b01455",
   "metadata": {},
   "outputs": [
    {
     "data": {
      "text/plain": [
       "'histori'"
      ]
     },
     "execution_count": 60,
     "metadata": {},
     "output_type": "execute_result"
    }
   ],
   "source": [
    "stemmer.stem(\"history\")\n",
    "#base word"
   ]
  },
  {
   "cell_type": "markdown",
   "id": "fda99ef7",
   "metadata": {},
   "source": [
    "### all the filtered stop words after applying stemming"
   ]
  },
  {
   "cell_type": "code",
   "execution_count": 61,
   "id": "5851b3f2",
   "metadata": {},
   "outputs": [
    {
     "name": "stdout",
     "output_type": "stream",
     "text": [
      "s s s s s "
     ]
    }
   ],
   "source": [
    "for stopwords in stop_words:\n",
    "    print(stopwords,end=\" \")"
   ]
  },
  {
   "cell_type": "markdown",
   "id": "cdf631a5",
   "metadata": {},
   "source": [
    "### Using lemmatizer to get the meaningful word of a word"
   ]
  },
  {
   "cell_type": "code",
   "execution_count": 62,
   "id": "6f4da21b",
   "metadata": {},
   "outputs": [
    {
     "name": "stderr",
     "output_type": "stream",
     "text": [
      "[nltk_data] Downloading package wordnet to C:\\Users\\Nasir\n",
      "[nltk_data]     Hussain\\AppData\\Roaming\\nltk_data...\n",
      "[nltk_data]   Package wordnet is already up-to-date!\n"
     ]
    }
   ],
   "source": [
    "nltk.download('wordnet')\n",
    "from nltk.stem import WordNetLemmatizer"
   ]
  },
  {
   "cell_type": "code",
   "execution_count": 63,
   "id": "ca146b50",
   "metadata": {},
   "outputs": [
    {
     "data": {
      "text/plain": [
       "'famili'"
      ]
     },
     "execution_count": 63,
     "metadata": {},
     "output_type": "execute_result"
    }
   ],
   "source": [
    "lemmatizer = WordNetLemmatizer()\n",
    "lemmatizer.lemmatize(\"famili\")\n",
    "#returns meaning ful word "
   ]
  },
  {
   "cell_type": "code",
   "execution_count": 64,
   "id": "49fa9008",
   "metadata": {},
   "outputs": [
    {
     "data": {
      "text/plain": [
       "['khan born lahor 5 octob 1952 ',\n",
       " 'some report suggest born 25 novemb 1952 ',\n",
       " 'It report 25 novemb wrongli mention pakistan cricket board offici passport ',\n",
       " 'He son ikramullah khan niazi civil engin wife shaukat khanum four sister ',\n",
       " 'long settl mianwali northwestern punjab patern famili pashtun ethnic belong niazi tribe one ancestor haibat khan niazi 16th centuri one sher shah suri lead gener well governor punjab ',\n",
       " 'like father khan mother ethnic pashtun belong burki tribe whose ancestor settl jalandhar district punjab centuri ',\n",
       " 'follow creation pakistan migrat lahor rest khan matern rel ',\n",
       " 'khan matern famili produc number cricket includ repres pakistan cousin jave burki majid khan ',\n",
       " 'matern khan also descend sufi warriorpoet inventor pashto alphabet pir roshan hail matern famili ancestr kaniguram town locat south waziristan tribal area northwest pakistan ',\n",
       " 'hi matern famili base basti danishmanda jalandhar india 600 year ',\n",
       " 'A quiet shi boy youth khan grew sister rel affluent upper middleclass circumst receiv privileg educ ',\n",
       " 'He educ aitchison colleg cathedr school lahor royal grammar school worcest england excel cricket ',\n",
       " 'In 1972 enrol kebl colleg oxford studi philosophi polit econom graduat 1975 ',\n",
       " 'An enthusiast colleg cricket kebl paul hay instrument secur admiss khan turn cambridg ',\n",
       " '']"
      ]
     },
     "execution_count": 64,
     "metadata": {},
     "output_type": "execute_result"
    }
   ],
   "source": [
    "stemmed_corpus"
   ]
  },
  {
   "cell_type": "code",
   "execution_count": 65,
   "id": "4d486d7a",
   "metadata": {},
   "outputs": [
    {
     "name": "stdout",
     "output_type": "stream",
     "text": [
      "['khan born lahor 5 octob 1952 ', 'some report suggest born 25 novemb 1952 ', 'It report 25 novemb wrongli mention pakistan cricket board offici passport ', 'He son ikramullah khan niazi civil engin wife shaukat khanum four sister ', 'long settl mianwali northwestern punjab patern famili pashtun ethnic belong niazi tribe one ancestor haibat khan niazi 16th centuri one sher shah suri lead gener well governor punjab ', 'like father khan mother ethnic pashtun belong burki tribe whose ancestor settl jalandhar district punjab centuri ', 'follow creation pakistan migrat lahor rest khan matern rel ', 'khan matern famili produc number cricket includ repres pakistan cousin jave burki majid khan ', 'matern khan also descend sufi warriorpoet inventor pashto alphabet pir roshan hail matern famili ancestr kaniguram town locat south waziristan tribal area northwest pakistan ', 'hi matern famili base basti danishmanda jalandhar india 600 year ', 'A quiet shi boy youth khan grew sister rel affluent upper middleclass circumst receiv privileg educ ', 'He educ aitchison colleg cathedr school lahor royal grammar school worcest england excel cricket ', 'In 1972 enrol kebl colleg oxford studi philosophi polit econom graduat 1975 ', 'An enthusiast colleg cricket kebl paul hay instrument secur admiss khan turn cambridg ', '']\n"
     ]
    }
   ],
   "source": [
    "stemmed_lemmatized_corpus=[]\n",
    "for corp in stemmed_corpus:\n",
    "    lemmatized_doc = \"\"\n",
    "    words = nltk.word_tokenize(corp)\n",
    "    \n",
    "    for word in words:\n",
    "        lemmatized_doc +=lemmatizer.lemmatize(word)+ \" \"        \n",
    "    stemmed_lemmatized_corpus.append(lemmatized_doc)\n",
    "\n",
    "print(stemmed_lemmatized_corpus)\n",
    "    "
   ]
  },
  {
   "cell_type": "markdown",
   "id": "0fbfca5a",
   "metadata": {},
   "source": [
    "### A short example to understad whats going on "
   ]
  },
  {
   "cell_type": "code",
   "execution_count": 66,
   "id": "b66d31f2",
   "metadata": {},
   "outputs": [
    {
     "name": "stdout",
     "output_type": "stream",
     "text": [
      "Vocabulary:  {'one': 32, 'geek': 10, 'helps': 24, 'two': 38, 'geeks': 14, 'one geek': 33, 'geek helps': 11, 'helps two': 27, 'two geeks': 39, 'one geek helps': 34, 'geek helps two': 13, 'helps two geeks': 28, 'help': 21, 'four': 8, 'geeks help': 19, 'help four': 22, 'four geeks': 9, 'two geeks help': 40, 'geeks help four': 20, 'help four geeks': 23, 'each': 3, 'many': 29, 'other': 35, 'at': 0, 'for': 6, 'each geek': 4, 'helps many': 25, 'many other': 30, 'other geeks': 36, 'geeks at': 15, 'at geeks': 1, 'geeks for': 17, 'for geeks': 7, 'each geek helps': 5, 'geek helps many': 12, 'helps many other': 26, 'many other geeks': 31, 'other geeks at': 37, 'geeks at geeks': 16, 'at geeks for': 2, 'geeks for geeks': 18}\n",
      "41\n",
      "Encoded Document is:\n",
      "[[0 0 0 0 0 0 0 0 0 0 1 1 0 1 1 0 0 0 0 0 0 0 0 0 1 0 0 1 1 0 0 0 1 1 1 0\n",
      "  0 0 1 1 0]\n",
      " [0 0 0 0 0 0 0 0 1 1 0 0 0 0 1 0 0 0 0 1 1 1 1 1 0 0 0 0 0 0 0 0 0 0 0 0\n",
      "  0 0 1 1 1]\n",
      " [1 1 1 1 1 1 1 1 0 0 1 1 1 0 1 1 1 1 1 0 0 0 0 0 1 1 1 0 0 1 1 1 0 0 0 1\n",
      "  1 1 0 0 0]]\n",
      "=+++++++++++\n",
      "['at', 'at geeks', 'at geeks for', 'each', 'each geek', 'each geek helps', 'for', 'for geeks', 'four', 'four geeks', 'geek', 'geek helps', 'geek helps many', 'geek helps two', 'geeks', 'geeks at', 'geeks at geeks', 'geeks for', 'geeks for geeks', 'geeks help', 'geeks help four', 'help', 'help four', 'help four geeks', 'helps', 'helps many', 'helps many other', 'helps two', 'helps two geeks', 'many', 'many other', 'many other geeks', 'one', 'one geek', 'one geek helps', 'other', 'other geeks', 'other geeks at', 'two', 'two geeks', 'two geeks help']\n"
     ]
    }
   ],
   "source": [
    "#https://www.geeksforgeeks.org/using-countvectorizer-to-extracting-features-from-text/\n",
    "\n",
    "from sklearn.feature_extraction.text import CountVectorizer\n",
    "\n",
    "document = [\"One Geek helps Two Geeks\",\n",
    "            \"Two Geeks help Four Geeks\",\n",
    "            \"Each Geek helps many other Geeks at Geeks for Geeks\"]\n",
    "\n",
    "# Create a Vectorizer Object\n",
    "vectorizer = CountVectorizer(binary=True,ngram_range=(1,3))\n",
    "#binary means if count of a word is 2 it will give 1 as presenece is marked. \n",
    "\n",
    "vectorizer.fit(document)\n",
    "\n",
    "vocab = vectorizer.vocabulary_\n",
    "# Printing the identified Unique words along with their indices\n",
    "print(\"Vocabulary: \", vocab)\n",
    "print(len(vocab))\n",
    "\n",
    "# Encode the Document\n",
    "vector = vectorizer.transform(document)\n",
    "\n",
    "# Summarizing the Encoded Texts\n",
    "print(\"Encoded Document is:\")\n",
    "print(vector.toarray())\n",
    "print(\"=+++++++++++\")\n",
    "print(vectorizer.get_feature_names())\n"
   ]
  },
  {
   "cell_type": "code",
   "execution_count": 67,
   "id": "6cc035f6",
   "metadata": {},
   "outputs": [],
   "source": [
    "from sklearn.feature_extraction.text import CountVectorizer\n",
    "binary_BOW_vectorizer= CountVectorizer(stop_words='english',binary=True)\n",
    "\n",
    "#we can apply ngrams methods in BOW by just passing ngram parameter "
   ]
  },
  {
   "cell_type": "code",
   "execution_count": 68,
   "id": "f237a483",
   "metadata": {},
   "outputs": [],
   "source": [
    "# test code now implemeted above \n",
    "# from nltk.stem import PoerStemmer  # allows to redefine the word on its root word\n",
    "# from nltk.corpus import stopwordsrt    # are the words that donot have direct impact on semantics of documents \n",
    "\n",
    "# stemmer = PorterStemmer()\n",
    "# stemmed_corpus = []\n",
    "# stop_words = []\n",
    "# # separating words and stop words and applying stemming on words.\n",
    "# for sent in corpus:\n",
    "#     doc = \"\"\n",
    "#     words = nltk.word_tokenize(sent)\n",
    "#     for word in words:\n",
    "#         if word not in stopwords.words('english'):\n",
    "#             doc +=stemmer.stem(word)+ \" \"\n",
    "            \n",
    "#         else:\n",
    "#             stop_words.append(word)\n",
    "#     stemmed_corpus.append(doc)\n",
    "\n",
    "# print(stemmed_corpus)"
   ]
  },
  {
   "cell_type": "code",
   "execution_count": 69,
   "id": "5764373a",
   "metadata": {},
   "outputs": [
    {
     "data": {
      "text/plain": [
       "<15x129 sparse matrix of type '<class 'numpy.int64'>'\n",
       "\twith 173 stored elements in Compressed Sparse Row format>"
      ]
     },
     "execution_count": 69,
     "metadata": {},
     "output_type": "execute_result"
    }
   ],
   "source": [
    "X = binary_BOW_vectorizer.fit_transform(stemmed_lemmatized_corpus)\n",
    "X"
   ]
  },
  {
   "cell_type": "code",
   "execution_count": 71,
   "id": "875fafc7",
   "metadata": {},
   "outputs": [
    {
     "data": {
      "text/plain": [
       "{'khan': 61,\n",
       " 'born': 17,\n",
       " 'lahor': 63,\n",
       " 'octob': 80,\n",
       " '1952': 1,\n",
       " 'report': 98,\n",
       " 'suggest': 115,\n",
       " '25': 4,\n",
       " 'novemb': 78,\n",
       " 'wrongli': 126,\n",
       " 'mention': 70,\n",
       " 'pakistan': 83,\n",
       " 'cricket': 28,\n",
       " 'board': 16,\n",
       " 'offici': 81,\n",
       " 'passport': 86,\n",
       " 'son': 111,\n",
       " 'ikramullah': 52,\n",
       " 'niazi': 75,\n",
       " 'civil': 24,\n",
       " 'engin': 34,\n",
       " 'wife': 124,\n",
       " 'shaukat': 107,\n",
       " 'khanum': 62,\n",
       " 'sister': 110,\n",
       " 'long': 67,\n",
       " 'settl': 105,\n",
       " 'mianwali': 71,\n",
       " 'northwestern': 77,\n",
       " 'punjab': 94,\n",
       " 'patern': 87,\n",
       " 'famili': 40,\n",
       " 'pashtun': 85,\n",
       " 'ethnic': 38,\n",
       " 'belong': 15,\n",
       " 'tribe': 119,\n",
       " 'ancestor': 10,\n",
       " 'haibat': 48,\n",
       " '16th': 0,\n",
       " 'centuri': 22,\n",
       " 'sher': 108,\n",
       " 'shah': 106,\n",
       " 'suri': 116,\n",
       " 'lead': 64,\n",
       " 'gener': 43,\n",
       " 'governor': 44,\n",
       " 'like': 65,\n",
       " 'father': 41,\n",
       " 'mother': 74,\n",
       " 'burki': 19,\n",
       " 'jalandhar': 57,\n",
       " 'district': 31,\n",
       " 'follow': 42,\n",
       " 'creation': 27,\n",
       " 'migrat': 73,\n",
       " 'rest': 100,\n",
       " 'matern': 69,\n",
       " 'rel': 97,\n",
       " 'produc': 93,\n",
       " 'number': 79,\n",
       " 'includ': 53,\n",
       " 'repres': 99,\n",
       " 'cousin': 26,\n",
       " 'jave': 58,\n",
       " 'majid': 68,\n",
       " 'descend': 30,\n",
       " 'sufi': 114,\n",
       " 'warriorpoet': 122,\n",
       " 'inventor': 56,\n",
       " 'pashto': 84,\n",
       " 'alphabet': 9,\n",
       " 'pir': 90,\n",
       " 'roshan': 101,\n",
       " 'hail': 49,\n",
       " 'ancestr': 11,\n",
       " 'kaniguram': 59,\n",
       " 'town': 117,\n",
       " 'locat': 66,\n",
       " 'south': 112,\n",
       " 'waziristan': 123,\n",
       " 'tribal': 118,\n",
       " 'area': 12,\n",
       " 'northwest': 76,\n",
       " 'hi': 51,\n",
       " 'base': 13,\n",
       " 'basti': 14,\n",
       " 'danishmanda': 29,\n",
       " 'india': 54,\n",
       " '600': 5,\n",
       " 'year': 127,\n",
       " 'quiet': 95,\n",
       " 'shi': 109,\n",
       " 'boy': 18,\n",
       " 'youth': 128,\n",
       " 'grew': 47,\n",
       " 'affluent': 7,\n",
       " 'upper': 121,\n",
       " 'middleclass': 72,\n",
       " 'circumst': 23,\n",
       " 'receiv': 96,\n",
       " 'privileg': 92,\n",
       " 'educ': 33,\n",
       " 'aitchison': 8,\n",
       " 'colleg': 25,\n",
       " 'cathedr': 21,\n",
       " 'school': 103,\n",
       " 'royal': 102,\n",
       " 'grammar': 46,\n",
       " 'worcest': 125,\n",
       " 'england': 35,\n",
       " 'excel': 39,\n",
       " '1972': 2,\n",
       " 'enrol': 36,\n",
       " 'kebl': 60,\n",
       " 'oxford': 82,\n",
       " 'studi': 113,\n",
       " 'philosophi': 89,\n",
       " 'polit': 91,\n",
       " 'econom': 32,\n",
       " 'graduat': 45,\n",
       " '1975': 3,\n",
       " 'enthusiast': 37,\n",
       " 'paul': 88,\n",
       " 'hay': 50,\n",
       " 'instrument': 55,\n",
       " 'secur': 104,\n",
       " 'admiss': 6,\n",
       " 'turn': 120,\n",
       " 'cambridg': 20}"
      ]
     },
     "execution_count": 71,
     "metadata": {},
     "output_type": "execute_result"
    }
   ],
   "source": [
    "vocabulary  = binary_BOW_vectorizer.vocabulary_\n",
    "vocabulary"
   ]
  },
  {
   "cell_type": "code",
   "execution_count": 72,
   "id": "1f0c786e",
   "metadata": {},
   "outputs": [
    {
     "data": {
      "text/plain": [
       "129"
      ]
     },
     "execution_count": 72,
     "metadata": {},
     "output_type": "execute_result"
    }
   ],
   "source": [
    "len(vocabulary)"
   ]
  },
  {
   "cell_type": "code",
   "execution_count": 76,
   "id": "46aa6a3f",
   "metadata": {},
   "outputs": [
    {
     "name": "stdout",
     "output_type": "stream",
     "text": [
      "1\n"
     ]
    }
   ],
   "source": [
    "print(X[0].toarray())\n",
    "# print(X[10].toarray().shape)\n",
    "# print(X[12].toarray().shape)\n",
    "# print(X[3].toarray().shape)"
   ]
  },
  {
   "cell_type": "code",
   "execution_count": 77,
   "id": "b6f51047",
   "metadata": {},
   "outputs": [
    {
     "name": "stdout",
     "output_type": "stream",
     "text": [
      "1 Khan born Lahore 5 October 1952 \n",
      "2  Some reports suggest born 25 November 1952 \n",
      "3  It reported 25 November wrongly mentioned Pakistan Cricket Board officials passport \n",
      "4  He son Ikramullah Khan Niazi  civil engineer  wife Shaukat Khanum  four sisters \n"
     ]
    }
   ],
   "source": [
    "print(1, corpus[0])\n",
    "print(2, corpus[1])\n",
    "print(3,corpus[2])\n",
    "print(4, corpus[3])"
   ]
  },
  {
   "cell_type": "code",
   "execution_count": 78,
   "id": "e6331b62",
   "metadata": {
    "scrolled": true
   },
   "outputs": [
    {
     "name": "stdout",
     "output_type": "stream",
     "text": [
      "1 1\n",
      "17 1\n",
      "61 1\n",
      "63 1\n",
      "80 1\n"
     ]
    }
   ],
   "source": [
    "for i, code in enumerate(X[0].toarray()[0]):\n",
    "    if code==1:\n",
    "        print(i,code)\n",
    "        \n"
   ]
  },
  {
   "cell_type": "code",
   "execution_count": 111,
   "id": "bcdee483",
   "metadata": {},
   "outputs": [
    {
     "data": {
      "text/plain": [
       "['Khan was born in Lahore on 5 October 1952.',\n",
       " 'Some reports suggest he was born on 25 November 1952.',\n",
       " 'It was reported that 25 November was wrongly mentioned by Pakistan Cricket Board officials on his passport.',\n",
       " 'He is the only son of Ikramullah Khan Niazi, a civil engineer, and his wife Shaukat Khanum, and has four sisters.',\n",
       " 'Long settled in Mianwali in northwestern Punjab, his paternal family are of Pashtun ethnicity and belong to the Niazi tribe,and one of his ancestors, Haibat Khan Niazi, in the 16th century, \"was one of Sher Shah Suri\\'s leading generals, as well as being the governor of Punjab.',\n",
       " \"Like his father, Khan's mother was an ethnic Pashtun, who belonged to the Burki tribe and whose ancestors had been settled in the Jalandhar district of Punjab for centuries.\",\n",
       " \"Following the creation of Pakistan, she migrated to Lahore with the rest of Khan's maternal relatives.\",\n",
       " \"Khan's maternal family has produced a number of cricketers, including those who have represented Pakistan,such as his cousins Javed Burki and Majid Khan.\",\n",
       " \"Maternally, Khan is also a descendant of the Sufi warrior-poet and inventor of the Pashto alphabet,Pir Roshan, who hailed from his maternal family's ancestral Kaniguram town located in South Waziristan in the tribal areas of northwest Pakistan.\",\n",
       " 'His maternal family was based in Basti Danishmanda, Jalandhar, India for about 600 years.',\n",
       " 'A quiet and shy boy in his youth, Khan grew up with his sisters in relatively affluent, upper middle-class circumstances and received a privileged education.',\n",
       " 'He was educated at the Aitchison College and Cathedral School in Lahore,and then the Royal Grammar School Worcester in England, where he excelled at cricket.',\n",
       " 'In 1972, he enrolled in Keble College, Oxford where he studied Philosophy, Politics and Economics, graduating in 1975.',\n",
       " 'An enthusiast for college cricket at Keble, Paul Hayes, was instrumental in securing the admission of Khan,after he had been turned down by Cambridge.']"
      ]
     },
     "execution_count": 111,
     "metadata": {},
     "output_type": "execute_result"
    }
   ],
   "source": [
    "sentences"
   ]
  },
  {
   "cell_type": "markdown",
   "id": "d1ff0787",
   "metadata": {},
   "source": [
    "## All the above applied process in one code "
   ]
  },
  {
   "cell_type": "code",
   "execution_count": 65,
   "id": "bd167a2c",
   "metadata": {},
   "outputs": [
    {
     "data": {
      "text/plain": [
       "['khan born lahor 5 octob 1952',\n",
       " 'report suggest born 25 novemb 1952',\n",
       " 'report 25 novemb wrongli mention pakistan cricket board offici passport',\n",
       " 'son ikramullah khan niazi civil engin wife shaukat khanum four sister',\n",
       " 'long settl mianwali northwestern punjab patern famili pashtun ethnic belong niazi tribe one ancestor haibat khan niazi 16th centuri one sher shah suri lead gener well governor punjab',\n",
       " 'like father khan mother ethnic pashtun belong burki tribe whose ancestor settl jalandhar district punjab centuri',\n",
       " 'follow creation pakistan migrat lahor rest khan matern rel',\n",
       " 'khan matern famili produc number cricket includ repres pakistan cousin jave burki majid khan',\n",
       " 'matern khan also descend sufi warrior poet inventor pashto alphabet pir roshan hail matern famili ancestr kaniguram town locat south waziristan tribal area northwest pakistan',\n",
       " 'matern famili base basti danishmanda jalandhar india 600 year',\n",
       " 'quiet shi boy youth khan grew sister rel affluent upper middl class circumst receiv privileg educ',\n",
       " 'educ aitchison colleg cathedr school lahor royal grammar school worcest england excel cricket',\n",
       " '1972 enrol kebl colleg oxford studi philosophi polit econom graduat 1975',\n",
       " 'enthusiast colleg cricket kebl paul hay instrument secur admiss khan turn cambridg']"
      ]
     },
     "execution_count": 65,
     "metadata": {},
     "output_type": "execute_result"
    }
   ],
   "source": [
    "\n",
    "import re\n",
    "from nltk.corpus import stopwords\n",
    "corpus = []\n",
    "for i in range(len(sentences)):\n",
    "    review = re.sub('[^a-zA-Z0-9]',' ',sentences[i]).lower().split()\n",
    "    \n",
    "    review=[lemmatizer.lemmatize(word) for word in review if not word in set(stopwords.words('english'))]\n",
    "    review=[stemmer.stem(word) for word in review]\n",
    "    \n",
    "    review = ' '.join(review)\n",
    "    \n",
    "    corpus.append(review)\n",
    "corpus"
   ]
  },
  {
   "cell_type": "markdown",
   "id": "abe4e065",
   "metadata": {},
   "source": [
    "# TFIDF"
   ]
  },
  {
   "cell_type": "code",
   "execution_count": 66,
   "id": "24fc779b",
   "metadata": {},
   "outputs": [],
   "source": [
    "from sklearn.feature_extraction.text import TfidfVectorizer"
   ]
  },
  {
   "cell_type": "code",
   "execution_count": 67,
   "id": "95679554",
   "metadata": {},
   "outputs": [],
   "source": [
    "cv = TfidfVectorizer()\n",
    "X = cv.fit_transform(stemmed_lemmatized_corpus)"
   ]
  },
  {
   "cell_type": "code",
   "execution_count": 68,
   "id": "d230a17d",
   "metadata": {},
   "outputs": [
    {
     "data": {
      "text/plain": [
       "'khan born lahor 5 octob 1952 '"
      ]
     },
     "execution_count": 68,
     "metadata": {},
     "output_type": "execute_result"
    }
   ],
   "source": [
    "stemmed_lemmatized_corpus[0]"
   ]
  },
  {
   "cell_type": "code",
   "execution_count": 69,
   "id": "0b18b2f2",
   "metadata": {},
   "outputs": [
    {
     "data": {
      "text/plain": [
       "array([[0.        , 0.47583065, 0.        , 0.        , 0.        ,\n",
       "        0.        , 0.        , 0.        , 0.        , 0.        ,\n",
       "        0.        , 0.        , 0.        , 0.        , 0.        ,\n",
       "        0.        , 0.        , 0.        , 0.47583065, 0.        ,\n",
       "        0.        , 0.        , 0.        , 0.        , 0.        ,\n",
       "        0.        , 0.        , 0.        , 0.        , 0.        ,\n",
       "        0.        , 0.        , 0.        , 0.        , 0.        ,\n",
       "        0.        , 0.        , 0.        , 0.        , 0.        ,\n",
       "        0.        , 0.        , 0.        , 0.        , 0.        ,\n",
       "        0.        , 0.        , 0.        , 0.        , 0.        ,\n",
       "        0.        , 0.        , 0.        , 0.        , 0.        ,\n",
       "        0.        , 0.        , 0.        , 0.        , 0.        ,\n",
       "        0.        , 0.        , 0.        , 0.25628637, 0.        ,\n",
       "        0.42337187, 0.        , 0.        , 0.        , 0.        ,\n",
       "        0.        , 0.        , 0.        , 0.        , 0.        ,\n",
       "        0.        , 0.        , 0.        , 0.        , 0.        ,\n",
       "        0.        , 0.        , 0.54976716, 0.        , 0.        ,\n",
       "        0.        , 0.        , 0.        , 0.        , 0.        ,\n",
       "        0.        , 0.        , 0.        , 0.        , 0.        ,\n",
       "        0.        , 0.        , 0.        , 0.        , 0.        ,\n",
       "        0.        , 0.        , 0.        , 0.        , 0.        ,\n",
       "        0.        , 0.        , 0.        , 0.        , 0.        ,\n",
       "        0.        , 0.        , 0.        , 0.        , 0.        ,\n",
       "        0.        , 0.        , 0.        , 0.        , 0.        ,\n",
       "        0.        , 0.        , 0.        , 0.        , 0.        ,\n",
       "        0.        , 0.        , 0.        , 0.        , 0.        ,\n",
       "        0.        , 0.        , 0.        , 0.        , 0.        ]])"
      ]
     },
     "execution_count": 69,
     "metadata": {},
     "output_type": "execute_result"
    }
   ],
   "source": [
    "X[0].toarray()"
   ]
  },
  {
   "cell_type": "code",
   "execution_count": 112,
   "id": "9054a1bb",
   "metadata": {},
   "outputs": [
    {
     "data": {
      "text/plain": [
       "array([[0.        , 0.        , 0.        , 0.        , 0.        ,\n",
       "        0.        , 0.        , 0.        , 0.        , 0.        ,\n",
       "        0.        , 0.        , 0.        , 0.        , 0.        ,\n",
       "        0.        , 0.        , 0.        , 0.        , 0.57735027,\n",
       "        0.        , 0.        , 0.        , 0.        , 0.        ,\n",
       "        0.        , 0.        , 0.        , 0.        , 0.        ,\n",
       "        0.        , 0.        , 0.        , 0.        , 0.        ,\n",
       "        0.        , 0.        , 0.        , 0.        , 0.        ,\n",
       "        0.        , 0.        , 0.        , 0.        , 0.        ,\n",
       "        0.        , 0.        , 0.        , 0.        , 0.        ,\n",
       "        0.        , 0.        , 0.        , 0.        , 0.        ,\n",
       "        0.        , 0.        , 0.        , 0.        , 0.        ,\n",
       "        0.        , 0.        , 0.        , 0.        , 0.        ,\n",
       "        0.        , 0.        , 0.        , 0.        , 0.        ,\n",
       "        0.        , 0.57735027, 0.        , 0.        , 0.        ,\n",
       "        0.        , 0.        , 0.        , 0.        , 0.        ,\n",
       "        0.57735027, 0.        , 0.        , 0.        , 0.        ,\n",
       "        0.        , 0.        , 0.        , 0.        , 0.        ,\n",
       "        0.        , 0.        , 0.        , 0.        , 0.        ,\n",
       "        0.        , 0.        , 0.        , 0.        , 0.        ,\n",
       "        0.        , 0.        , 0.        , 0.        , 0.        ,\n",
       "        0.        , 0.        , 0.        , 0.        , 0.        ,\n",
       "        0.        , 0.        , 0.        , 0.        , 0.        ,\n",
       "        0.        , 0.        , 0.        , 0.        , 0.        ,\n",
       "        0.        , 0.        , 0.        , 0.        , 0.        ,\n",
       "        0.        , 0.        , 0.        , 0.        , 0.        ,\n",
       "        0.        , 0.        , 0.        , 0.        , 0.        ,\n",
       "        0.        , 0.        , 0.        , 0.        , 0.        ,\n",
       "        0.        , 0.        , 0.        , 0.        , 0.        ,\n",
       "        0.        , 0.        , 0.        , 0.        , 0.        ,\n",
       "        0.        , 0.        , 0.        , 0.        , 0.        ,\n",
       "        0.        , 0.        ]])"
      ]
     },
     "execution_count": 112,
     "metadata": {},
     "output_type": "execute_result"
    }
   ],
   "source": [
    "cv = TfidfVectorizer(ngram_range=(3,3))\n",
    "X = cv.fit_transform(stemmed_lemmatized_corpus)\n",
    "X[0].toarray()"
   ]
  },
  {
   "cell_type": "code",
   "execution_count": 71,
   "id": "b7575e0d",
   "metadata": {},
   "outputs": [
    {
     "data": {
      "text/plain": [
       "array([[0., 0., 0., 0., 0., 0., 0., 0., 0., 0.]])"
      ]
     },
     "execution_count": 71,
     "metadata": {},
     "output_type": "execute_result"
    }
   ],
   "source": [
    "cv = TfidfVectorizer(ngram_range=(3,3),max_features=10)\n",
    "X = cv.fit_transform(stemmed_lemmatized_corpus)\n",
    "X[0].toarray()"
   ]
  },
  {
   "cell_type": "code",
   "execution_count": null,
   "id": "3c929df4",
   "metadata": {},
   "outputs": [],
   "source": [
    "#!pip install gensim"
   ]
  },
  {
   "cell_type": "code",
   "execution_count": null,
   "id": "59646c3a",
   "metadata": {},
   "outputs": [],
   "source": [
    "import gensim"
   ]
  },
  {
   "cell_type": "code",
   "execution_count": null,
   "id": "0f0d15eb",
   "metadata": {},
   "outputs": [],
   "source": [
    "from gensim.models import Word2Vec, KeyedVectors"
   ]
  }
 ],
 "metadata": {
  "kernelspec": {
   "display_name": "Python 3 (ipykernel)",
   "language": "python",
   "name": "python3"
  },
  "language_info": {
   "codemirror_mode": {
    "name": "ipython",
    "version": 3
   },
   "file_extension": ".py",
   "mimetype": "text/x-python",
   "name": "python",
   "nbconvert_exporter": "python",
   "pygments_lexer": "ipython3",
   "version": "3.11.3"
  }
 },
 "nbformat": 4,
 "nbformat_minor": 5
}
