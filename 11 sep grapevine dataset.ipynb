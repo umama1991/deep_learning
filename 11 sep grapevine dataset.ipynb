{
 "cells": [
  {
   "cell_type": "code",
   "execution_count": 1,
   "id": "b6d5625a",
   "metadata": {},
   "outputs": [],
   "source": [
    "from google.colab import drive\n",
    "drive.mount('/content/drive')"
   ]
  },
  {
   "cell_type": "code",
   "execution_count": null,
   "id": "2244668d",
   "metadata": {},
   "outputs": [],
   "source": [
    "import numpy as np\n",
    "import matplotlib.pyplot as plt\n",
    "from glob import glob\n",
    "import os"
   ]
  },
  {
   "cell_type": "code",
   "execution_count": null,
   "id": "9804d40c",
   "metadata": {},
   "outputs": [],
   "source": [
    "import os\n",
    "os.environ['KAGGLE_CONFIG_DIR'] = \"/content/drive/MyDrive/kaggle\""
   ]
  },
  {
   "cell_type": "code",
   "execution_count": null,
   "id": "24f6e272",
   "metadata": {},
   "outputs": [],
   "source": [
    "%cd /content/drive/MyDrive/kaggle/"
   ]
  },
  {
   "cell_type": "code",
   "execution_count": null,
   "id": "c5f2ee76",
   "metadata": {},
   "outputs": [],
   "source": [
    "!kaggle datasets download -d muratkokludataset/grapevine-leaves-image-dataset"
   ]
  },
  {
   "cell_type": "code",
   "execution_count": null,
   "id": "40b8731c",
   "metadata": {},
   "outputs": [],
   "source": [
    "!kaggle datasets download -d muratkokludataset/grapevine-leaves-image-dataset --unzip --force\n"
   ]
  },
  {
   "cell_type": "code",
   "execution_count": null,
   "id": "1c44e918",
   "metadata": {},
   "outputs": [],
   "source": [
    "from PIL import Image\n",
    "image1 = Image.open(\"/content/drive/MyDrive/kaggle/Grapevine_Leaves_Image_Dataset/Ak/Ak (1).png\")\n",
    "image1"
   ]
  },
  {
   "cell_type": "markdown",
   "id": "cf497146",
   "metadata": {},
   "source": [
    "## Splitting"
   ]
  },
  {
   "cell_type": "code",
   "execution_count": null,
   "id": "f9cfa1df",
   "metadata": {},
   "outputs": [],
   "source": [
    "from tensorflow.keras.preprocessing.image import ImageDataGenerator\n",
    "data = ImageDataGenerator(rescale = 1/255.0,validation_split=0.2) # herevalidadation split means test split\n",
    "\n",
    "# trainData = data.flow_from_directory(directory = \"/content/drive/MyDrive/kaggle/Grapevine_Leaves_Image_Dataset\",\n",
    "#                                      target_size=(256, 256),class_mode='categorical', batch_size=32,shuffle=True, subset = \"training\")\n",
    "# testData = data.flow_from_directory(directory = \"/content/drive/MyDrive/kaggle/Grapevine_Leaves_Image_Dataset\",\n",
    "#                                     target_size=(256, 256),class_mode='categorical', batch_size=32,shuffle=True, subset = \"validation\")"
   ]
  },
  {
   "cell_type": "markdown",
   "id": "9b21a5d6",
   "metadata": {},
   "source": [
    "## Data Generators\n"
   ]
  },
  {
   "cell_type": "code",
   "execution_count": null,
   "id": "e17ddecb",
   "metadata": {},
   "outputs": [],
   "source": [
    "train_gen = ImageDataGenerator(rescale = 1./255., \n",
    "                              rotation_range = 40 , \n",
    "                              shear_range = .2 , \n",
    "                              width_shift_range = .2,\n",
    "                              height_shift_range = .2 , \n",
    "                              horizontal_flip=True,\n",
    "                              vertical_flip= True ,\n",
    "                               zoom_range=0.2,\n",
    "                              fill_mode='nearest')"
   ]
  },
  {
   "cell_type": "code",
   "execution_count": null,
   "id": "abf63b18",
   "metadata": {},
   "outputs": [],
   "source": [
    "train_d_gen = train_gen.flow_from_directory(train_dir , class_mode = 'categorical' ,\n",
    "                                            target_size = (150 , 150) , batch_size = 16)"
   ]
  },
  {
   "cell_type": "code",
   "execution_count": null,
   "id": "aac246bd",
   "metadata": {},
   "outputs": [],
   "source": [
    "val_gen = ImageDataGenerator(rescale = 1./255.)"
   ]
  },
  {
   "cell_type": "code",
   "execution_count": null,
   "id": "89ce3670",
   "metadata": {},
   "outputs": [],
   "source": [
    "val_d_gen = val_gen.flow_from_directory(validation_dir , class_mode = 'categorical' ,\n",
    "                                        target_size = (150 , 150) , batch_size = 2)"
   ]
  },
  {
   "cell_type": "markdown",
   "id": "e9d05b2c",
   "metadata": {},
   "source": [
    "## Modeling"
   ]
  },
  {
   "cell_type": "code",
   "execution_count": null,
   "id": "09c1542c",
   "metadata": {},
   "outputs": [],
   "source": [
    "\n",
    "model = tf.keras.models.Sequential([\n",
    "    tf.keras.layers.Conv2D(32 , (3,3) , activation = 'relu' , input_shape = (150 , 150 , 3)),\n",
    "    tf.keras.layers.MaxPooling2D(2,2) , \n",
    "    tf.keras.layers.Conv2D(64 , (3,3) , activation = 'relu'),\n",
    "    tf.keras.layers.MaxPooling2D(2,2),\n",
    "    tf.keras.layers.Conv2D(128 , (3,3) , activation = 'relu'),\n",
    "    tf.keras.layers.Flatten(),\n",
    "    tf.keras.layers.Dense(512 , activation = 'relu'),\n",
    "    tf.keras.layers.Dense(5,activation = 'softmax')\n",
    "])\n",
    "\n",
    "model.summary()"
   ]
  },
  {
   "cell_type": "code",
   "execution_count": null,
   "id": "fcc5075e",
   "metadata": {},
   "outputs": [],
   "source": [
    "model.compile(loss = tf.keras.losses.categorical_crossentropy,\n",
    "              optimizer = tf.keras.optimizers.Adam() , metrics = ['accuracy'])"
   ]
  },
  {
   "cell_type": "code",
   "execution_count": null,
   "id": "cbe207a9",
   "metadata": {},
   "outputs": [],
   "source": [
    "history = model.fit(train_d_gen , validation_data=val_d_gen , epochs = 20)"
   ]
  },
  {
   "cell_type": "markdown",
   "id": "2812da13",
   "metadata": {},
   "source": [
    "## Overfitting check"
   ]
  },
  {
   "cell_type": "code",
   "execution_count": null,
   "id": "ec39d368",
   "metadata": {},
   "outputs": [],
   "source": [
    "loss = history.history['loss']\n",
    "val_loss = history.history['val_loss']\n",
    "\n",
    "plt.figure(figsize = (12 , 6))\n",
    "\n",
    "plt.plot(loss , 'b' , label = 'training loss')\n",
    "plt.plot(val_loss , 'orange' , label = 'validation loss')\n",
    "\n",
    "plt.legend()\n",
    "plt.show()\n"
   ]
  },
  {
   "cell_type": "code",
   "execution_count": null,
   "id": "73fd3cd0",
   "metadata": {},
   "outputs": [],
   "source": [
    "acc = history.history['accuracy']\n",
    "val_acc = history.history['val_accuracy']\n",
    "plt.plot(acc , 'b' , label = 'training acc')\n",
    "plt.plot(val_acc , 'orange' , label = 'val acc')\n",
    "\n",
    "plt.legend()\n",
    "plt.show()"
   ]
  },
  {
   "cell_type": "markdown",
   "id": "50eca608",
   "metadata": {},
   "source": [
    "## Evaluating"
   ]
  },
  {
   "cell_type": "code",
   "execution_count": null,
   "id": "d8248626",
   "metadata": {},
   "outputs": [],
   "source": [
    "model.evaluate(val_d_gen)"
   ]
  },
  {
   "cell_type": "markdown",
   "id": "37fe5bc9",
   "metadata": {},
   "source": [
    "## Transfer learning"
   ]
  },
  {
   "cell_type": "code",
   "execution_count": null,
   "id": "b76358b4",
   "metadata": {},
   "outputs": [],
   "source": [
    "#I will use  InceptionV3\n",
    "from tensorflow.keras.applications.inception_v3 import InceptionV3"
   ]
  },
  {
   "cell_type": "code",
   "execution_count": null,
   "id": "41f9d08d",
   "metadata": {},
   "outputs": [],
   "source": [
    "inception_v3 = InceptionV3(include_top= False , weights= None , input_shape = (150 , 150 , 3))"
   ]
  },
  {
   "cell_type": "code",
   "execution_count": null,
   "id": "231b2b70",
   "metadata": {},
   "outputs": [],
   "source": [
    "!wget --no-check-certificate https://storage.googleapis.com/mledu-datasets/inception_v3_weights_tf_dim_ordering_tf_kernels_notop.h5 "
   ]
  },
  {
   "cell_type": "code",
   "execution_count": null,
   "id": "9cbdf928",
   "metadata": {},
   "outputs": [],
   "source": [
    "inception_v3.load_weights('inception_v3_weights_tf_dim_ordering_tf_kernels_notop.h5')"
   ]
  },
  {
   "cell_type": "code",
   "execution_count": null,
   "id": "e5cf303d",
   "metadata": {},
   "outputs": [],
   "source": [
    "#freezing the layers so that they are not affected by the training on the new dataset\n",
    "for layer in inception_v3.layers:\n",
    "    layer.trainable = False"
   ]
  },
  {
   "cell_type": "code",
   "execution_count": null,
   "id": "e5a98847",
   "metadata": {},
   "outputs": [],
   "source": [
    "inception_v3.summary()"
   ]
  },
  {
   "cell_type": "markdown",
   "id": "74fef16e",
   "metadata": {},
   "source": [
    "## Transfer learning _ overfitting check"
   ]
  },
  {
   "cell_type": "code",
   "execution_count": null,
   "id": "a881d6f1",
   "metadata": {},
   "outputs": [],
   "source": [
    "loss = history_pre_trained.history['loss']\n",
    "val_loss = history_pre_trained.history['val_loss']\n",
    "acc = history_pre_trained.history['accuracy']\n",
    "val_acc = history_pre_trained.history['val_accuracy']\n",
    "\n",
    "plt.figure(figsize = (12 , 6))\n",
    "plt.plot(loss , 'b' , label = 'training loss')\n",
    "plt.plot(val_loss , 'orange' , label = 'validation loss')\n",
    "plt.legend()\n",
    "plt.show()"
   ]
  },
  {
   "cell_type": "code",
   "execution_count": null,
   "id": "db827844",
   "metadata": {},
   "outputs": [],
   "source": [
    "plt.figure(figsize = (12 , 6))\n",
    "plt.plot(acc , 'b' , label = 'training accuracy')\n",
    "plt.plot(val_acc , 'orange' , label = 'validation accuracy')\n",
    "plt.legend()\n",
    "plt.show()"
   ]
  }
 ],
 "metadata": {
  "kernelspec": {
   "display_name": "Python 3 (ipykernel)",
   "language": "python",
   "name": "python3"
  },
  "language_info": {
   "codemirror_mode": {
    "name": "ipython",
    "version": 3
   },
   "file_extension": ".py",
   "mimetype": "text/x-python",
   "name": "python",
   "nbconvert_exporter": "python",
   "pygments_lexer": "ipython3",
   "version": "3.11.3"
  }
 },
 "nbformat": 4,
 "nbformat_minor": 5
}
