{
 "cells": [
  {
   "cell_type": "code",
   "execution_count": 1,
   "id": "53744bdf",
   "metadata": {
    "id": "53744bdf"
   },
   "outputs": [],
   "source": [
    "import numpy as np\n",
    "import pandas as pd"
   ]
  },
  {
   "cell_type": "code",
   "execution_count": 4,
   "id": "b6ea274d",
   "metadata": {
    "id": "b6ea274d"
   },
   "outputs": [],
   "source": [
    "from sklearn.model_selection import train_test_split\n",
    "from sklearn.compose import ColumnTransformer\n",
    "from sklearn.impute import SimpleImputer\n",
    "from sklearn.preprocessing import OneHotEncoder\n",
    "from sklearn.preprocessing import MinMaxScaler\n",
    "from sklearn.pipeline import Pipeline,make_pipeline\n",
    "from sklearn.feature_selection import SelectKBest,chi2\n",
    "from sklearn.tree import DecisionTreeClassifier"
   ]
  },
  {
   "cell_type": "markdown",
   "id": "_90s5F-IrIau",
   "metadata": {
    "id": "_90s5F-IrIau"
   },
   "source": []
  },
  {
   "cell_type": "code",
   "execution_count": 5,
   "id": "2828a743",
   "metadata": {
    "id": "2828a743"
   },
   "outputs": [],
   "source": [
    "df = pd.read_excel('loan-data.xlsx')"
   ]
  },
  {
   "cell_type": "markdown",
   "id": "UCMoAAFqxtPr",
   "metadata": {
    "id": "UCMoAAFqxtPr"
   },
   "source": [
    "# New Section"
   ]
  },
  {
   "cell_type": "code",
   "execution_count": 6,
   "id": "3a434b63",
   "metadata": {
    "colab": {
     "base_uri": "https://localhost:8080/"
    },
    "id": "3a434b63",
    "outputId": "44c28363-b3c0-43c0-ff1d-d49bc6dc9373"
   },
   "outputs": [
    {
     "data": {
      "text/plain": [
       "<bound method NDFrame.describe of        Unnamed: 0       id  member_id  loan_amnt  funded_amnt  \\\n",
       "0               2        2          2        0.0          0.0   \n",
       "1               3   545583     703644     2500.0       2500.0   \n",
       "2               4   532101     687836     5000.0       5000.0   \n",
       "3               5   877788    1092507     7000.0       7000.0   \n",
       "4               6   875406    1089981     2000.0       2000.0   \n",
       "...           ...      ...        ...        ...          ...   \n",
       "38475       38476   849205    1060907     3000.0       3000.0   \n",
       "38476       38477   852914    1065048    10400.0      10400.0   \n",
       "38477       38478   519553     671637    16000.0      10550.0   \n",
       "38478       38479   825638    1034448    10000.0      10000.0   \n",
       "38479       38480  1029847    1249126     3200.0       3200.0   \n",
       "\n",
       "       funded_amnt_inv       term  int_rate  installment emp_length  ...  \\\n",
       "0              0.00000  36 months      0.00         0.00   < 1 year  ...   \n",
       "1           2500.00000  36 months     13.98        85.42    4 years  ...   \n",
       "2           5000.00000  36 months     15.95       175.67    4 years  ...   \n",
       "3           7000.00000  36 months      9.91       225.58  10+ years  ...   \n",
       "4           2000.00000  36 months      5.42        60.32  10+ years  ...   \n",
       "...                ...        ...       ...          ...        ...  ...   \n",
       "38475       3000.00000  36 months     11.99        99.63    3 years  ...   \n",
       "38476      10400.00000  36 months     13.49       352.88    9 years  ...   \n",
       "38477      10531.35818  60 months     14.96       250.77  10+ years  ...   \n",
       "38478      10000.00000  36 months     16.89       355.99     1 year  ...   \n",
       "38479       3200.00000  36 months     13.49       108.58    7 years  ...   \n",
       "\n",
       "      total_acc   total_pymnt total_pymnt_inv total_rec_prncp total_rec_int  \\\n",
       "0           1.0      0.000000            0.00            0.00          0.00   \n",
       "1          10.0   3075.291779         3075.29         2500.00        575.29   \n",
       "2          15.0   2948.760000         2948.76         1909.02        873.81   \n",
       "3          20.0   8082.391880         8082.39         7000.00       1082.39   \n",
       "4          15.0   2161.663244         2161.66         2000.00        161.66   \n",
       "...         ...           ...             ...             ...           ...   \n",
       "38475      22.0   3586.619764         3586.62         3000.00        586.62   \n",
       "38476      33.0  12703.534030        12703.53        10400.00       2303.53   \n",
       "38477      25.0  14202.267530        14163.31        10550.00       3652.27   \n",
       "38478      12.0  12815.178320        12815.18        10000.00       2815.18   \n",
       "38479      18.0   3908.767275         3908.77         3200.00        708.77   \n",
       "\n",
       "      last_pymnt_d last_pymnt_amnt next_pymnt_d  last_credit_pull_d  \\\n",
       "0       2023-01-07            0.00   2023-01-07          2023-01-07   \n",
       "1       2023-07-13           90.85   2023-08-13          2023-06-16   \n",
       "2       2023-11-11          175.67          NaT          2023-03-12   \n",
       "3       2023-03-14         1550.27          NaT          2023-03-14   \n",
       "4       2023-02-14           53.12          NaT          2023-06-16   \n",
       "...            ...             ...          ...                 ...   \n",
       "38475   2023-08-14          100.30          NaT          2023-06-16   \n",
       "38476   2023-09-14          393.08          NaT          2023-06-16   \n",
       "38477   2023-06-13         5439.96          NaT          2023-02-16   \n",
       "38478   2023-08-14          380.63          NaT          2023-09-15   \n",
       "38479   2023-12-14          111.88          NaT          2023-11-14   \n",
       "\n",
       "       repay_fail  \n",
       "0               1  \n",
       "1               0  \n",
       "2               1  \n",
       "3               0  \n",
       "4               0  \n",
       "...           ...  \n",
       "38475           0  \n",
       "38476           0  \n",
       "38477           0  \n",
       "38478           0  \n",
       "38479           0  \n",
       "\n",
       "[38480 rows x 37 columns]>"
      ]
     },
     "execution_count": 6,
     "metadata": {},
     "output_type": "execute_result"
    }
   ],
   "source": [
    "df.describe"
   ]
  },
  {
   "cell_type": "code",
   "execution_count": 7,
   "id": "7b07d91e",
   "metadata": {
    "colab": {
     "base_uri": "https://localhost:8080/"
    },
    "id": "7b07d91e",
    "outputId": "60d18ac4-f666-45c2-b523-4786f944633b"
   },
   "outputs": [
    {
     "data": {
      "text/plain": [
       "Unnamed: 0                    0\n",
       "id                            0\n",
       "member_id                     0\n",
       "loan_amnt                     1\n",
       "funded_amnt                   1\n",
       "funded_amnt_inv               1\n",
       "term                          0\n",
       "int_rate                      0\n",
       "installment                   1\n",
       "emp_length                  993\n",
       "home_ownership                0\n",
       "annual_inc                    2\n",
       "verification_status           0\n",
       "issue_d                       0\n",
       "loan_status                   0\n",
       "purpose                       0\n",
       "zip_code                      0\n",
       "addr_state                    0\n",
       "dti                           0\n",
       "delinq_2yrs                   1\n",
       "earliest_cr_line              0\n",
       "inq_last_6mths                1\n",
       "mths_since_last_delinq    24363\n",
       "open_acc                      1\n",
       "pub_rec                       1\n",
       "revol_bal                     4\n",
       "revol_util                   59\n",
       "total_acc                     1\n",
       "total_pymnt                   1\n",
       "total_pymnt_inv               1\n",
       "total_rec_prncp               1\n",
       "total_rec_int                 1\n",
       "last_pymnt_d                 71\n",
       "last_pymnt_amnt               1\n",
       "next_pymnt_d              35097\n",
       "last_credit_pull_d            3\n",
       "repay_fail                    0\n",
       "dtype: int64"
      ]
     },
     "execution_count": 7,
     "metadata": {},
     "output_type": "execute_result"
    }
   ],
   "source": [
    "df.isnull().sum()"
   ]
  },
  {
   "cell_type": "code",
   "execution_count": null,
   "id": "a30ae57a",
   "metadata": {
    "id": "a30ae57a"
   },
   "outputs": [],
   "source": []
  },
  {
   "cell_type": "code",
   "execution_count": 8,
   "id": "721875e6",
   "metadata": {
    "colab": {
     "base_uri": "https://localhost:8080/"
    },
    "id": "721875e6",
    "outputId": "cfb4b445-e888-4371-baca-64717b9650b7"
   },
   "outputs": [
    {
     "data": {
      "text/plain": [
       "0        False\n",
       "1        False\n",
       "2        False\n",
       "3        False\n",
       "4        False\n",
       "         ...  \n",
       "38475    False\n",
       "38476    False\n",
       "38477    False\n",
       "38478    False\n",
       "38479    False\n",
       "Length: 38480, dtype: bool"
      ]
     },
     "execution_count": 8,
     "metadata": {},
     "output_type": "execute_result"
    }
   ],
   "source": [
    "df.duplicated()"
   ]
  },
  {
   "cell_type": "code",
   "execution_count": 9,
   "id": "6840c135",
   "metadata": {
    "colab": {
     "base_uri": "https://localhost:8080/"
    },
    "id": "6840c135",
    "outputId": "646d4fcb-1ed8-4edc-fee5-b275871cbcda"
   },
   "outputs": [
    {
     "data": {
      "text/plain": [
       "Index(['Unnamed: 0', 'id', 'member_id', 'loan_amnt', 'funded_amnt',\n",
       "       'funded_amnt_inv', 'term', 'int_rate', 'installment', 'emp_length',\n",
       "       'home_ownership', 'annual_inc', 'verification_status', 'issue_d',\n",
       "       'loan_status', 'purpose', 'zip_code', 'addr_state', 'dti',\n",
       "       'delinq_2yrs', 'earliest_cr_line', 'inq_last_6mths',\n",
       "       'mths_since_last_delinq', 'open_acc', 'pub_rec', 'revol_bal',\n",
       "       'revol_util', 'total_acc', 'total_pymnt', 'total_pymnt_inv',\n",
       "       'total_rec_prncp', 'total_rec_int', 'last_pymnt_d', 'last_pymnt_amnt',\n",
       "       'next_pymnt_d', 'last_credit_pull_d', 'repay_fail'],\n",
       "      dtype='object')"
      ]
     },
     "execution_count": 9,
     "metadata": {},
     "output_type": "execute_result"
    }
   ],
   "source": [
    "df.columns"
   ]
  },
  {
   "cell_type": "code",
   "execution_count": 10,
   "id": "70e5673c",
   "metadata": {
    "id": "70e5673c"
   },
   "outputs": [],
   "source": [
    "df.drop(columns=[\"Unnamed: 0\",\"id\",\"zip_code\",\"addr_state\",\"dti\",\"delinq_2yrs\",\"earliest_cr_line\",\n",
    "                 \"inq_last_6mths\",\"mths_since_last_delinq\",\"open_acc\",\"pub_rec\",\"revol_bal\",\"revol_util\",\"total_acc\",\n",
    "                 \"total_pymnt_inv\",],inplace=True)"
   ]
  },
  {
   "cell_type": "code",
   "execution_count": 11,
   "id": "607e4981",
   "metadata": {
    "colab": {
     "base_uri": "https://localhost:8080/",
     "height": 394
    },
    "id": "607e4981",
    "outputId": "d65fb11e-0f76-42b9-858f-17f9f61961a5"
   },
   "outputs": [
    {
     "data": {
      "text/html": [
       "<div>\n",
       "<style scoped>\n",
       "    .dataframe tbody tr th:only-of-type {\n",
       "        vertical-align: middle;\n",
       "    }\n",
       "\n",
       "    .dataframe tbody tr th {\n",
       "        vertical-align: top;\n",
       "    }\n",
       "\n",
       "    .dataframe thead th {\n",
       "        text-align: right;\n",
       "    }\n",
       "</style>\n",
       "<table border=\"1\" class=\"dataframe\">\n",
       "  <thead>\n",
       "    <tr style=\"text-align: right;\">\n",
       "      <th></th>\n",
       "      <th>member_id</th>\n",
       "      <th>loan_amnt</th>\n",
       "      <th>funded_amnt</th>\n",
       "      <th>funded_amnt_inv</th>\n",
       "      <th>term</th>\n",
       "      <th>int_rate</th>\n",
       "      <th>installment</th>\n",
       "      <th>emp_length</th>\n",
       "      <th>home_ownership</th>\n",
       "      <th>annual_inc</th>\n",
       "      <th>...</th>\n",
       "      <th>loan_status</th>\n",
       "      <th>purpose</th>\n",
       "      <th>total_pymnt</th>\n",
       "      <th>total_rec_prncp</th>\n",
       "      <th>total_rec_int</th>\n",
       "      <th>last_pymnt_d</th>\n",
       "      <th>last_pymnt_amnt</th>\n",
       "      <th>next_pymnt_d</th>\n",
       "      <th>last_credit_pull_d</th>\n",
       "      <th>repay_fail</th>\n",
       "    </tr>\n",
       "  </thead>\n",
       "  <tbody>\n",
       "    <tr>\n",
       "      <th>0</th>\n",
       "      <td>2</td>\n",
       "      <td>0.0</td>\n",
       "      <td>0.0</td>\n",
       "      <td>0.0</td>\n",
       "      <td>36 months</td>\n",
       "      <td>0.00</td>\n",
       "      <td>0.00</td>\n",
       "      <td>&lt; 1 year</td>\n",
       "      <td>RENT</td>\n",
       "      <td>0.0</td>\n",
       "      <td>...</td>\n",
       "      <td>Charged Off</td>\n",
       "      <td>major_purchase</td>\n",
       "      <td>0.000000</td>\n",
       "      <td>0.00</td>\n",
       "      <td>0.00</td>\n",
       "      <td>2023-01-07</td>\n",
       "      <td>0.00</td>\n",
       "      <td>2023-01-07</td>\n",
       "      <td>2023-01-07</td>\n",
       "      <td>1</td>\n",
       "    </tr>\n",
       "    <tr>\n",
       "      <th>1</th>\n",
       "      <td>703644</td>\n",
       "      <td>2500.0</td>\n",
       "      <td>2500.0</td>\n",
       "      <td>2500.0</td>\n",
       "      <td>36 months</td>\n",
       "      <td>13.98</td>\n",
       "      <td>85.42</td>\n",
       "      <td>4 years</td>\n",
       "      <td>RENT</td>\n",
       "      <td>20004.0</td>\n",
       "      <td>...</td>\n",
       "      <td>Does not meet the credit policy. Status:Fully ...</td>\n",
       "      <td>other</td>\n",
       "      <td>3075.291779</td>\n",
       "      <td>2500.00</td>\n",
       "      <td>575.29</td>\n",
       "      <td>2023-07-13</td>\n",
       "      <td>90.85</td>\n",
       "      <td>2023-08-13</td>\n",
       "      <td>2023-06-16</td>\n",
       "      <td>0</td>\n",
       "    </tr>\n",
       "    <tr>\n",
       "      <th>2</th>\n",
       "      <td>687836</td>\n",
       "      <td>5000.0</td>\n",
       "      <td>5000.0</td>\n",
       "      <td>5000.0</td>\n",
       "      <td>36 months</td>\n",
       "      <td>15.95</td>\n",
       "      <td>175.67</td>\n",
       "      <td>4 years</td>\n",
       "      <td>RENT</td>\n",
       "      <td>59000.0</td>\n",
       "      <td>...</td>\n",
       "      <td>Charged Off</td>\n",
       "      <td>debt_consolidation</td>\n",
       "      <td>2948.760000</td>\n",
       "      <td>1909.02</td>\n",
       "      <td>873.81</td>\n",
       "      <td>2023-11-11</td>\n",
       "      <td>175.67</td>\n",
       "      <td>NaT</td>\n",
       "      <td>2023-03-12</td>\n",
       "      <td>1</td>\n",
       "    </tr>\n",
       "    <tr>\n",
       "      <th>3</th>\n",
       "      <td>1092507</td>\n",
       "      <td>7000.0</td>\n",
       "      <td>7000.0</td>\n",
       "      <td>7000.0</td>\n",
       "      <td>36 months</td>\n",
       "      <td>9.91</td>\n",
       "      <td>225.58</td>\n",
       "      <td>10+ years</td>\n",
       "      <td>MORTGAGE</td>\n",
       "      <td>53796.0</td>\n",
       "      <td>...</td>\n",
       "      <td>Fully Paid</td>\n",
       "      <td>other</td>\n",
       "      <td>8082.391880</td>\n",
       "      <td>7000.00</td>\n",
       "      <td>1082.39</td>\n",
       "      <td>2023-03-14</td>\n",
       "      <td>1550.27</td>\n",
       "      <td>NaT</td>\n",
       "      <td>2023-03-14</td>\n",
       "      <td>0</td>\n",
       "    </tr>\n",
       "    <tr>\n",
       "      <th>4</th>\n",
       "      <td>1089981</td>\n",
       "      <td>2000.0</td>\n",
       "      <td>2000.0</td>\n",
       "      <td>2000.0</td>\n",
       "      <td>36 months</td>\n",
       "      <td>5.42</td>\n",
       "      <td>60.32</td>\n",
       "      <td>10+ years</td>\n",
       "      <td>RENT</td>\n",
       "      <td>30000.0</td>\n",
       "      <td>...</td>\n",
       "      <td>Fully Paid</td>\n",
       "      <td>debt_consolidation</td>\n",
       "      <td>2161.663244</td>\n",
       "      <td>2000.00</td>\n",
       "      <td>161.66</td>\n",
       "      <td>2023-02-14</td>\n",
       "      <td>53.12</td>\n",
       "      <td>NaT</td>\n",
       "      <td>2023-06-16</td>\n",
       "      <td>0</td>\n",
       "    </tr>\n",
       "  </tbody>\n",
       "</table>\n",
       "<p>5 rows × 22 columns</p>\n",
       "</div>"
      ],
      "text/plain": [
       "   member_id  loan_amnt  funded_amnt  funded_amnt_inv       term  int_rate  \\\n",
       "0          2        0.0          0.0              0.0  36 months      0.00   \n",
       "1     703644     2500.0       2500.0           2500.0  36 months     13.98   \n",
       "2     687836     5000.0       5000.0           5000.0  36 months     15.95   \n",
       "3    1092507     7000.0       7000.0           7000.0  36 months      9.91   \n",
       "4    1089981     2000.0       2000.0           2000.0  36 months      5.42   \n",
       "\n",
       "   installment emp_length home_ownership  annual_inc  ...  \\\n",
       "0         0.00   < 1 year           RENT         0.0  ...   \n",
       "1        85.42    4 years           RENT     20004.0  ...   \n",
       "2       175.67    4 years           RENT     59000.0  ...   \n",
       "3       225.58  10+ years       MORTGAGE     53796.0  ...   \n",
       "4        60.32  10+ years           RENT     30000.0  ...   \n",
       "\n",
       "                                         loan_status             purpose  \\\n",
       "0                                        Charged Off      major_purchase   \n",
       "1  Does not meet the credit policy. Status:Fully ...               other   \n",
       "2                                        Charged Off  debt_consolidation   \n",
       "3                                         Fully Paid               other   \n",
       "4                                         Fully Paid  debt_consolidation   \n",
       "\n",
       "   total_pymnt total_rec_prncp  total_rec_int  last_pymnt_d  last_pymnt_amnt  \\\n",
       "0     0.000000            0.00           0.00    2023-01-07             0.00   \n",
       "1  3075.291779         2500.00         575.29    2023-07-13            90.85   \n",
       "2  2948.760000         1909.02         873.81    2023-11-11           175.67   \n",
       "3  8082.391880         7000.00        1082.39    2023-03-14          1550.27   \n",
       "4  2161.663244         2000.00         161.66    2023-02-14            53.12   \n",
       "\n",
       "  next_pymnt_d  last_credit_pull_d repay_fail  \n",
       "0   2023-01-07          2023-01-07          1  \n",
       "1   2023-08-13          2023-06-16          0  \n",
       "2          NaT          2023-03-12          1  \n",
       "3          NaT          2023-03-14          0  \n",
       "4          NaT          2023-06-16          0  \n",
       "\n",
       "[5 rows x 22 columns]"
      ]
     },
     "execution_count": 11,
     "metadata": {},
     "output_type": "execute_result"
    }
   ],
   "source": [
    "df.head()"
   ]
  },
  {
   "cell_type": "code",
   "execution_count": 12,
   "id": "6441a683",
   "metadata": {
    "colab": {
     "base_uri": "https://localhost:8080/"
    },
    "id": "6441a683",
    "outputId": "4989c6e9-c0a1-46f9-cad2-b45d7b75eea4"
   },
   "outputs": [
    {
     "data": {
      "text/plain": [
       "<bound method NDFrame.describe of        member_id  loan_amnt  funded_amnt  funded_amnt_inv       term  \\\n",
       "0              2        0.0          0.0          0.00000  36 months   \n",
       "1         703644     2500.0       2500.0       2500.00000  36 months   \n",
       "2         687836     5000.0       5000.0       5000.00000  36 months   \n",
       "3        1092507     7000.0       7000.0       7000.00000  36 months   \n",
       "4        1089981     2000.0       2000.0       2000.00000  36 months   \n",
       "...          ...        ...          ...              ...        ...   \n",
       "38475    1060907     3000.0       3000.0       3000.00000  36 months   \n",
       "38476    1065048    10400.0      10400.0      10400.00000  36 months   \n",
       "38477     671637    16000.0      10550.0      10531.35818  60 months   \n",
       "38478    1034448    10000.0      10000.0      10000.00000  36 months   \n",
       "38479    1249126     3200.0       3200.0       3200.00000  36 months   \n",
       "\n",
       "       int_rate  installment emp_length home_ownership  annual_inc  ...  \\\n",
       "0          0.00         0.00   < 1 year           RENT         0.0  ...   \n",
       "1         13.98        85.42    4 years           RENT     20004.0  ...   \n",
       "2         15.95       175.67    4 years           RENT     59000.0  ...   \n",
       "3          9.91       225.58  10+ years       MORTGAGE     53796.0  ...   \n",
       "4          5.42        60.32  10+ years           RENT     30000.0  ...   \n",
       "...         ...          ...        ...            ...         ...  ...   \n",
       "38475     11.99        99.63    3 years           RENT     74250.0  ...   \n",
       "38476     13.49       352.88    9 years           RENT     62000.0  ...   \n",
       "38477     14.96       250.77  10+ years       MORTGAGE     95088.0  ...   \n",
       "38478     16.89       355.99     1 year           RENT     48720.0  ...   \n",
       "38479     13.49       108.58    7 years           RENT     38400.0  ...   \n",
       "\n",
       "                                             loan_status             purpose  \\\n",
       "0                                            Charged Off      major_purchase   \n",
       "1      Does not meet the credit policy. Status:Fully ...               other   \n",
       "2                                            Charged Off  debt_consolidation   \n",
       "3                                             Fully Paid               other   \n",
       "4                                             Fully Paid  debt_consolidation   \n",
       "...                                                  ...                 ...   \n",
       "38475                                         Fully Paid         credit_card   \n",
       "38476                                         Fully Paid         credit_card   \n",
       "38477                                         Fully Paid  debt_consolidation   \n",
       "38478                                         Fully Paid  debt_consolidation   \n",
       "38479                                         Fully Paid  debt_consolidation   \n",
       "\n",
       "        total_pymnt total_rec_prncp  total_rec_int  last_pymnt_d  \\\n",
       "0          0.000000            0.00           0.00    2023-01-07   \n",
       "1       3075.291779         2500.00         575.29    2023-07-13   \n",
       "2       2948.760000         1909.02         873.81    2023-11-11   \n",
       "3       8082.391880         7000.00        1082.39    2023-03-14   \n",
       "4       2161.663244         2000.00         161.66    2023-02-14   \n",
       "...             ...             ...            ...           ...   \n",
       "38475   3586.619764         3000.00         586.62    2023-08-14   \n",
       "38476  12703.534030        10400.00        2303.53    2023-09-14   \n",
       "38477  14202.267530        10550.00        3652.27    2023-06-13   \n",
       "38478  12815.178320        10000.00        2815.18    2023-08-14   \n",
       "38479   3908.767275         3200.00         708.77    2023-12-14   \n",
       "\n",
       "       last_pymnt_amnt next_pymnt_d  last_credit_pull_d repay_fail  \n",
       "0                 0.00   2023-01-07          2023-01-07          1  \n",
       "1                90.85   2023-08-13          2023-06-16          0  \n",
       "2               175.67          NaT          2023-03-12          1  \n",
       "3              1550.27          NaT          2023-03-14          0  \n",
       "4                53.12          NaT          2023-06-16          0  \n",
       "...                ...          ...                 ...        ...  \n",
       "38475           100.30          NaT          2023-06-16          0  \n",
       "38476           393.08          NaT          2023-06-16          0  \n",
       "38477          5439.96          NaT          2023-02-16          0  \n",
       "38478           380.63          NaT          2023-09-15          0  \n",
       "38479           111.88          NaT          2023-11-14          0  \n",
       "\n",
       "[38480 rows x 22 columns]>"
      ]
     },
     "execution_count": 12,
     "metadata": {},
     "output_type": "execute_result"
    }
   ],
   "source": [
    "df.describe"
   ]
  },
  {
   "cell_type": "code",
   "execution_count": 13,
   "id": "9e7d9ff0",
   "metadata": {
    "id": "9e7d9ff0"
   },
   "outputs": [],
   "source": [
    "df.drop(columns=[\"member_id\",\"loan_amnt\",\"funded_amnt_inv\",\"issue_d\"],inplace=True)"
   ]
  },
  {
   "cell_type": "code",
   "execution_count": 14,
   "id": "e7255ff5",
   "metadata": {
    "colab": {
     "base_uri": "https://localhost:8080/",
     "height": 365
    },
    "id": "e7255ff5",
    "outputId": "a0708373-e098-4718-952a-d4cb955c693a"
   },
   "outputs": [
    {
     "data": {
      "text/html": [
       "<div>\n",
       "<style scoped>\n",
       "    .dataframe tbody tr th:only-of-type {\n",
       "        vertical-align: middle;\n",
       "    }\n",
       "\n",
       "    .dataframe tbody tr th {\n",
       "        vertical-align: top;\n",
       "    }\n",
       "\n",
       "    .dataframe thead th {\n",
       "        text-align: right;\n",
       "    }\n",
       "</style>\n",
       "<table border=\"1\" class=\"dataframe\">\n",
       "  <thead>\n",
       "    <tr style=\"text-align: right;\">\n",
       "      <th></th>\n",
       "      <th>funded_amnt</th>\n",
       "      <th>term</th>\n",
       "      <th>int_rate</th>\n",
       "      <th>installment</th>\n",
       "      <th>emp_length</th>\n",
       "      <th>home_ownership</th>\n",
       "      <th>annual_inc</th>\n",
       "      <th>verification_status</th>\n",
       "      <th>loan_status</th>\n",
       "      <th>purpose</th>\n",
       "      <th>total_pymnt</th>\n",
       "      <th>total_rec_prncp</th>\n",
       "      <th>total_rec_int</th>\n",
       "      <th>last_pymnt_d</th>\n",
       "      <th>last_pymnt_amnt</th>\n",
       "      <th>next_pymnt_d</th>\n",
       "      <th>last_credit_pull_d</th>\n",
       "      <th>repay_fail</th>\n",
       "    </tr>\n",
       "  </thead>\n",
       "  <tbody>\n",
       "    <tr>\n",
       "      <th>0</th>\n",
       "      <td>0.0</td>\n",
       "      <td>36 months</td>\n",
       "      <td>0.00</td>\n",
       "      <td>0.00</td>\n",
       "      <td>&lt; 1 year</td>\n",
       "      <td>RENT</td>\n",
       "      <td>0.0</td>\n",
       "      <td>Not Verified</td>\n",
       "      <td>Charged Off</td>\n",
       "      <td>major_purchase</td>\n",
       "      <td>0.000000</td>\n",
       "      <td>0.00</td>\n",
       "      <td>0.00</td>\n",
       "      <td>2023-01-07</td>\n",
       "      <td>0.00</td>\n",
       "      <td>2023-01-07</td>\n",
       "      <td>2023-01-07</td>\n",
       "      <td>1</td>\n",
       "    </tr>\n",
       "    <tr>\n",
       "      <th>1</th>\n",
       "      <td>2500.0</td>\n",
       "      <td>36 months</td>\n",
       "      <td>13.98</td>\n",
       "      <td>85.42</td>\n",
       "      <td>4 years</td>\n",
       "      <td>RENT</td>\n",
       "      <td>20004.0</td>\n",
       "      <td>Not Verified</td>\n",
       "      <td>Does not meet the credit policy. Status:Fully ...</td>\n",
       "      <td>other</td>\n",
       "      <td>3075.291779</td>\n",
       "      <td>2500.00</td>\n",
       "      <td>575.29</td>\n",
       "      <td>2023-07-13</td>\n",
       "      <td>90.85</td>\n",
       "      <td>2023-08-13</td>\n",
       "      <td>2023-06-16</td>\n",
       "      <td>0</td>\n",
       "    </tr>\n",
       "    <tr>\n",
       "      <th>2</th>\n",
       "      <td>5000.0</td>\n",
       "      <td>36 months</td>\n",
       "      <td>15.95</td>\n",
       "      <td>175.67</td>\n",
       "      <td>4 years</td>\n",
       "      <td>RENT</td>\n",
       "      <td>59000.0</td>\n",
       "      <td>Not Verified</td>\n",
       "      <td>Charged Off</td>\n",
       "      <td>debt_consolidation</td>\n",
       "      <td>2948.760000</td>\n",
       "      <td>1909.02</td>\n",
       "      <td>873.81</td>\n",
       "      <td>2023-11-11</td>\n",
       "      <td>175.67</td>\n",
       "      <td>NaT</td>\n",
       "      <td>2023-03-12</td>\n",
       "      <td>1</td>\n",
       "    </tr>\n",
       "    <tr>\n",
       "      <th>3</th>\n",
       "      <td>7000.0</td>\n",
       "      <td>36 months</td>\n",
       "      <td>9.91</td>\n",
       "      <td>225.58</td>\n",
       "      <td>10+ years</td>\n",
       "      <td>MORTGAGE</td>\n",
       "      <td>53796.0</td>\n",
       "      <td>Not Verified</td>\n",
       "      <td>Fully Paid</td>\n",
       "      <td>other</td>\n",
       "      <td>8082.391880</td>\n",
       "      <td>7000.00</td>\n",
       "      <td>1082.39</td>\n",
       "      <td>2023-03-14</td>\n",
       "      <td>1550.27</td>\n",
       "      <td>NaT</td>\n",
       "      <td>2023-03-14</td>\n",
       "      <td>0</td>\n",
       "    </tr>\n",
       "    <tr>\n",
       "      <th>4</th>\n",
       "      <td>2000.0</td>\n",
       "      <td>36 months</td>\n",
       "      <td>5.42</td>\n",
       "      <td>60.32</td>\n",
       "      <td>10+ years</td>\n",
       "      <td>RENT</td>\n",
       "      <td>30000.0</td>\n",
       "      <td>Not Verified</td>\n",
       "      <td>Fully Paid</td>\n",
       "      <td>debt_consolidation</td>\n",
       "      <td>2161.663244</td>\n",
       "      <td>2000.00</td>\n",
       "      <td>161.66</td>\n",
       "      <td>2023-02-14</td>\n",
       "      <td>53.12</td>\n",
       "      <td>NaT</td>\n",
       "      <td>2023-06-16</td>\n",
       "      <td>0</td>\n",
       "    </tr>\n",
       "  </tbody>\n",
       "</table>\n",
       "</div>"
      ],
      "text/plain": [
       "   funded_amnt       term  int_rate  installment emp_length home_ownership  \\\n",
       "0          0.0  36 months      0.00         0.00   < 1 year           RENT   \n",
       "1       2500.0  36 months     13.98        85.42    4 years           RENT   \n",
       "2       5000.0  36 months     15.95       175.67    4 years           RENT   \n",
       "3       7000.0  36 months      9.91       225.58  10+ years       MORTGAGE   \n",
       "4       2000.0  36 months      5.42        60.32  10+ years           RENT   \n",
       "\n",
       "   annual_inc verification_status  \\\n",
       "0         0.0        Not Verified   \n",
       "1     20004.0        Not Verified   \n",
       "2     59000.0        Not Verified   \n",
       "3     53796.0        Not Verified   \n",
       "4     30000.0        Not Verified   \n",
       "\n",
       "                                         loan_status             purpose  \\\n",
       "0                                        Charged Off      major_purchase   \n",
       "1  Does not meet the credit policy. Status:Fully ...               other   \n",
       "2                                        Charged Off  debt_consolidation   \n",
       "3                                         Fully Paid               other   \n",
       "4                                         Fully Paid  debt_consolidation   \n",
       "\n",
       "   total_pymnt  total_rec_prncp  total_rec_int last_pymnt_d  last_pymnt_amnt  \\\n",
       "0     0.000000             0.00           0.00   2023-01-07             0.00   \n",
       "1  3075.291779          2500.00         575.29   2023-07-13            90.85   \n",
       "2  2948.760000          1909.02         873.81   2023-11-11           175.67   \n",
       "3  8082.391880          7000.00        1082.39   2023-03-14          1550.27   \n",
       "4  2161.663244          2000.00         161.66   2023-02-14            53.12   \n",
       "\n",
       "  next_pymnt_d last_credit_pull_d  repay_fail  \n",
       "0   2023-01-07         2023-01-07           1  \n",
       "1   2023-08-13         2023-06-16           0  \n",
       "2          NaT         2023-03-12           1  \n",
       "3          NaT         2023-03-14           0  \n",
       "4          NaT         2023-06-16           0  "
      ]
     },
     "execution_count": 14,
     "metadata": {},
     "output_type": "execute_result"
    }
   ],
   "source": [
    "df.head()"
   ]
  },
  {
   "cell_type": "code",
   "execution_count": 15,
   "id": "d29490da",
   "metadata": {
    "id": "d29490da"
   },
   "outputs": [],
   "source": [
    "df.drop(columns=[\"last_pymnt_d\",\"last_credit_pull_d\",\"next_pymnt_d\"],inplace=True)"
   ]
  },
  {
   "cell_type": "code",
   "execution_count": 16,
   "id": "b5bcoWa8s219",
   "metadata": {
    "colab": {
     "base_uri": "https://localhost:8080/",
     "height": 669
    },
    "id": "b5bcoWa8s219",
    "outputId": "5ef07215-658d-4f98-9ad9-9d28a4b4524c"
   },
   "outputs": [
    {
     "data": {
      "text/html": [
       "<div>\n",
       "<style scoped>\n",
       "    .dataframe tbody tr th:only-of-type {\n",
       "        vertical-align: middle;\n",
       "    }\n",
       "\n",
       "    .dataframe tbody tr th {\n",
       "        vertical-align: top;\n",
       "    }\n",
       "\n",
       "    .dataframe thead th {\n",
       "        text-align: right;\n",
       "    }\n",
       "</style>\n",
       "<table border=\"1\" class=\"dataframe\">\n",
       "  <thead>\n",
       "    <tr style=\"text-align: right;\">\n",
       "      <th></th>\n",
       "      <th>funded_amnt</th>\n",
       "      <th>term</th>\n",
       "      <th>int_rate</th>\n",
       "      <th>installment</th>\n",
       "      <th>emp_length</th>\n",
       "      <th>home_ownership</th>\n",
       "      <th>annual_inc</th>\n",
       "      <th>verification_status</th>\n",
       "      <th>loan_status</th>\n",
       "      <th>purpose</th>\n",
       "      <th>total_pymnt</th>\n",
       "      <th>total_rec_prncp</th>\n",
       "      <th>total_rec_int</th>\n",
       "      <th>last_pymnt_amnt</th>\n",
       "      <th>repay_fail</th>\n",
       "    </tr>\n",
       "  </thead>\n",
       "  <tbody>\n",
       "    <tr>\n",
       "      <th>0</th>\n",
       "      <td>0.0</td>\n",
       "      <td>36 months</td>\n",
       "      <td>0.00</td>\n",
       "      <td>0.00</td>\n",
       "      <td>&lt; 1 year</td>\n",
       "      <td>RENT</td>\n",
       "      <td>0.0</td>\n",
       "      <td>Not Verified</td>\n",
       "      <td>Charged Off</td>\n",
       "      <td>major_purchase</td>\n",
       "      <td>0.000000</td>\n",
       "      <td>0.00</td>\n",
       "      <td>0.00</td>\n",
       "      <td>0.00</td>\n",
       "      <td>1</td>\n",
       "    </tr>\n",
       "    <tr>\n",
       "      <th>1</th>\n",
       "      <td>2500.0</td>\n",
       "      <td>36 months</td>\n",
       "      <td>13.98</td>\n",
       "      <td>85.42</td>\n",
       "      <td>4 years</td>\n",
       "      <td>RENT</td>\n",
       "      <td>20004.0</td>\n",
       "      <td>Not Verified</td>\n",
       "      <td>Does not meet the credit policy. Status:Fully ...</td>\n",
       "      <td>other</td>\n",
       "      <td>3075.291779</td>\n",
       "      <td>2500.00</td>\n",
       "      <td>575.29</td>\n",
       "      <td>90.85</td>\n",
       "      <td>0</td>\n",
       "    </tr>\n",
       "    <tr>\n",
       "      <th>2</th>\n",
       "      <td>5000.0</td>\n",
       "      <td>36 months</td>\n",
       "      <td>15.95</td>\n",
       "      <td>175.67</td>\n",
       "      <td>4 years</td>\n",
       "      <td>RENT</td>\n",
       "      <td>59000.0</td>\n",
       "      <td>Not Verified</td>\n",
       "      <td>Charged Off</td>\n",
       "      <td>debt_consolidation</td>\n",
       "      <td>2948.760000</td>\n",
       "      <td>1909.02</td>\n",
       "      <td>873.81</td>\n",
       "      <td>175.67</td>\n",
       "      <td>1</td>\n",
       "    </tr>\n",
       "    <tr>\n",
       "      <th>3</th>\n",
       "      <td>7000.0</td>\n",
       "      <td>36 months</td>\n",
       "      <td>9.91</td>\n",
       "      <td>225.58</td>\n",
       "      <td>10+ years</td>\n",
       "      <td>MORTGAGE</td>\n",
       "      <td>53796.0</td>\n",
       "      <td>Not Verified</td>\n",
       "      <td>Fully Paid</td>\n",
       "      <td>other</td>\n",
       "      <td>8082.391880</td>\n",
       "      <td>7000.00</td>\n",
       "      <td>1082.39</td>\n",
       "      <td>1550.27</td>\n",
       "      <td>0</td>\n",
       "    </tr>\n",
       "    <tr>\n",
       "      <th>4</th>\n",
       "      <td>2000.0</td>\n",
       "      <td>36 months</td>\n",
       "      <td>5.42</td>\n",
       "      <td>60.32</td>\n",
       "      <td>10+ years</td>\n",
       "      <td>RENT</td>\n",
       "      <td>30000.0</td>\n",
       "      <td>Not Verified</td>\n",
       "      <td>Fully Paid</td>\n",
       "      <td>debt_consolidation</td>\n",
       "      <td>2161.663244</td>\n",
       "      <td>2000.00</td>\n",
       "      <td>161.66</td>\n",
       "      <td>53.12</td>\n",
       "      <td>0</td>\n",
       "    </tr>\n",
       "    <tr>\n",
       "      <th>...</th>\n",
       "      <td>...</td>\n",
       "      <td>...</td>\n",
       "      <td>...</td>\n",
       "      <td>...</td>\n",
       "      <td>...</td>\n",
       "      <td>...</td>\n",
       "      <td>...</td>\n",
       "      <td>...</td>\n",
       "      <td>...</td>\n",
       "      <td>...</td>\n",
       "      <td>...</td>\n",
       "      <td>...</td>\n",
       "      <td>...</td>\n",
       "      <td>...</td>\n",
       "      <td>...</td>\n",
       "    </tr>\n",
       "    <tr>\n",
       "      <th>38475</th>\n",
       "      <td>3000.0</td>\n",
       "      <td>36 months</td>\n",
       "      <td>11.99</td>\n",
       "      <td>99.63</td>\n",
       "      <td>3 years</td>\n",
       "      <td>RENT</td>\n",
       "      <td>74250.0</td>\n",
       "      <td>Verified</td>\n",
       "      <td>Fully Paid</td>\n",
       "      <td>credit_card</td>\n",
       "      <td>3586.619764</td>\n",
       "      <td>3000.00</td>\n",
       "      <td>586.62</td>\n",
       "      <td>100.30</td>\n",
       "      <td>0</td>\n",
       "    </tr>\n",
       "    <tr>\n",
       "      <th>38476</th>\n",
       "      <td>10400.0</td>\n",
       "      <td>36 months</td>\n",
       "      <td>13.49</td>\n",
       "      <td>352.88</td>\n",
       "      <td>9 years</td>\n",
       "      <td>RENT</td>\n",
       "      <td>62000.0</td>\n",
       "      <td>Source Verified</td>\n",
       "      <td>Fully Paid</td>\n",
       "      <td>credit_card</td>\n",
       "      <td>12703.534030</td>\n",
       "      <td>10400.00</td>\n",
       "      <td>2303.53</td>\n",
       "      <td>393.08</td>\n",
       "      <td>0</td>\n",
       "    </tr>\n",
       "    <tr>\n",
       "      <th>38477</th>\n",
       "      <td>10550.0</td>\n",
       "      <td>60 months</td>\n",
       "      <td>14.96</td>\n",
       "      <td>250.77</td>\n",
       "      <td>10+ years</td>\n",
       "      <td>MORTGAGE</td>\n",
       "      <td>95088.0</td>\n",
       "      <td>Source Verified</td>\n",
       "      <td>Fully Paid</td>\n",
       "      <td>debt_consolidation</td>\n",
       "      <td>14202.267530</td>\n",
       "      <td>10550.00</td>\n",
       "      <td>3652.27</td>\n",
       "      <td>5439.96</td>\n",
       "      <td>0</td>\n",
       "    </tr>\n",
       "    <tr>\n",
       "      <th>38478</th>\n",
       "      <td>10000.0</td>\n",
       "      <td>36 months</td>\n",
       "      <td>16.89</td>\n",
       "      <td>355.99</td>\n",
       "      <td>1 year</td>\n",
       "      <td>RENT</td>\n",
       "      <td>48720.0</td>\n",
       "      <td>Not Verified</td>\n",
       "      <td>Fully Paid</td>\n",
       "      <td>debt_consolidation</td>\n",
       "      <td>12815.178320</td>\n",
       "      <td>10000.00</td>\n",
       "      <td>2815.18</td>\n",
       "      <td>380.63</td>\n",
       "      <td>0</td>\n",
       "    </tr>\n",
       "    <tr>\n",
       "      <th>38479</th>\n",
       "      <td>3200.0</td>\n",
       "      <td>36 months</td>\n",
       "      <td>13.49</td>\n",
       "      <td>108.58</td>\n",
       "      <td>7 years</td>\n",
       "      <td>RENT</td>\n",
       "      <td>38400.0</td>\n",
       "      <td>Source Verified</td>\n",
       "      <td>Fully Paid</td>\n",
       "      <td>debt_consolidation</td>\n",
       "      <td>3908.767275</td>\n",
       "      <td>3200.00</td>\n",
       "      <td>708.77</td>\n",
       "      <td>111.88</td>\n",
       "      <td>0</td>\n",
       "    </tr>\n",
       "  </tbody>\n",
       "</table>\n",
       "<p>38480 rows × 15 columns</p>\n",
       "</div>"
      ],
      "text/plain": [
       "       funded_amnt       term  int_rate  installment emp_length  \\\n",
       "0              0.0  36 months      0.00         0.00   < 1 year   \n",
       "1           2500.0  36 months     13.98        85.42    4 years   \n",
       "2           5000.0  36 months     15.95       175.67    4 years   \n",
       "3           7000.0  36 months      9.91       225.58  10+ years   \n",
       "4           2000.0  36 months      5.42        60.32  10+ years   \n",
       "...            ...        ...       ...          ...        ...   \n",
       "38475       3000.0  36 months     11.99        99.63    3 years   \n",
       "38476      10400.0  36 months     13.49       352.88    9 years   \n",
       "38477      10550.0  60 months     14.96       250.77  10+ years   \n",
       "38478      10000.0  36 months     16.89       355.99     1 year   \n",
       "38479       3200.0  36 months     13.49       108.58    7 years   \n",
       "\n",
       "      home_ownership  annual_inc verification_status  \\\n",
       "0               RENT         0.0        Not Verified   \n",
       "1               RENT     20004.0        Not Verified   \n",
       "2               RENT     59000.0        Not Verified   \n",
       "3           MORTGAGE     53796.0        Not Verified   \n",
       "4               RENT     30000.0        Not Verified   \n",
       "...              ...         ...                 ...   \n",
       "38475           RENT     74250.0            Verified   \n",
       "38476           RENT     62000.0     Source Verified   \n",
       "38477       MORTGAGE     95088.0     Source Verified   \n",
       "38478           RENT     48720.0        Not Verified   \n",
       "38479           RENT     38400.0     Source Verified   \n",
       "\n",
       "                                             loan_status             purpose  \\\n",
       "0                                            Charged Off      major_purchase   \n",
       "1      Does not meet the credit policy. Status:Fully ...               other   \n",
       "2                                            Charged Off  debt_consolidation   \n",
       "3                                             Fully Paid               other   \n",
       "4                                             Fully Paid  debt_consolidation   \n",
       "...                                                  ...                 ...   \n",
       "38475                                         Fully Paid         credit_card   \n",
       "38476                                         Fully Paid         credit_card   \n",
       "38477                                         Fully Paid  debt_consolidation   \n",
       "38478                                         Fully Paid  debt_consolidation   \n",
       "38479                                         Fully Paid  debt_consolidation   \n",
       "\n",
       "        total_pymnt  total_rec_prncp  total_rec_int  last_pymnt_amnt  \\\n",
       "0          0.000000             0.00           0.00             0.00   \n",
       "1       3075.291779          2500.00         575.29            90.85   \n",
       "2       2948.760000          1909.02         873.81           175.67   \n",
       "3       8082.391880          7000.00        1082.39          1550.27   \n",
       "4       2161.663244          2000.00         161.66            53.12   \n",
       "...             ...              ...            ...              ...   \n",
       "38475   3586.619764          3000.00         586.62           100.30   \n",
       "38476  12703.534030         10400.00        2303.53           393.08   \n",
       "38477  14202.267530         10550.00        3652.27          5439.96   \n",
       "38478  12815.178320         10000.00        2815.18           380.63   \n",
       "38479   3908.767275          3200.00         708.77           111.88   \n",
       "\n",
       "       repay_fail  \n",
       "0               1  \n",
       "1               0  \n",
       "2               1  \n",
       "3               0  \n",
       "4               0  \n",
       "...           ...  \n",
       "38475           0  \n",
       "38476           0  \n",
       "38477           0  \n",
       "38478           0  \n",
       "38479           0  \n",
       "\n",
       "[38480 rows x 15 columns]"
      ]
     },
     "execution_count": 16,
     "metadata": {},
     "output_type": "execute_result"
    }
   ],
   "source": [
    "df"
   ]
  },
  {
   "cell_type": "code",
   "execution_count": 17,
   "id": "33bb147a",
   "metadata": {
    "colab": {
     "base_uri": "https://localhost:8080/"
    },
    "id": "33bb147a",
    "outputId": "09307bb0-14a6-4984-f38d-766210309043"
   },
   "outputs": [
    {
     "data": {
      "text/plain": [
       "0    32651\n",
       "1     5829\n",
       "Name: repay_fail, dtype: int64"
      ]
     },
     "execution_count": 17,
     "metadata": {},
     "output_type": "execute_result"
    }
   ],
   "source": [
    "df.repay_fail.value_counts()"
   ]
  },
  {
   "cell_type": "code",
   "execution_count": 18,
   "id": "1c2a915c",
   "metadata": {
    "colab": {
     "base_uri": "https://localhost:8080/"
    },
    "id": "1c2a915c",
    "outputId": "31860916-76c1-4a89-ff76-3a0273a53e00"
   },
   "outputs": [
    {
     "data": {
      "text/plain": [
       "funded_amnt              1\n",
       "term                     0\n",
       "int_rate                 0\n",
       "installment              1\n",
       "emp_length             993\n",
       "home_ownership           0\n",
       "annual_inc               2\n",
       "verification_status      0\n",
       "loan_status              0\n",
       "purpose                  0\n",
       "total_pymnt              1\n",
       "total_rec_prncp          1\n",
       "total_rec_int            1\n",
       "last_pymnt_amnt          1\n",
       "repay_fail               0\n",
       "dtype: int64"
      ]
     },
     "execution_count": 18,
     "metadata": {},
     "output_type": "execute_result"
    }
   ],
   "source": [
    "df.isnull().sum()"
   ]
  },
  {
   "cell_type": "code",
   "execution_count": 19,
   "id": "2333829a",
   "metadata": {
    "colab": {
     "base_uri": "https://localhost:8080/"
    },
    "id": "2333829a",
    "outputId": "abb8fb9b-caad-4e80-dc08-faa66c888724"
   },
   "outputs": [
    {
     "data": {
      "text/plain": [
       "array(['RENT', 'MORTGAGE', 'OWN', 'OTHER', 'NONE'], dtype=object)"
      ]
     },
     "execution_count": 19,
     "metadata": {},
     "output_type": "execute_result"
    }
   ],
   "source": [
    "df.home_ownership.unique()"
   ]
  },
  {
   "cell_type": "code",
   "execution_count": 20,
   "id": "a8d45dcd",
   "metadata": {
    "id": "a8d45dcd"
   },
   "outputs": [],
   "source": [
    "home_ownership_mapping = {\n",
    "    'MORTGAGE': 0,\n",
    "    'RENT': 1,\n",
    "    'OWN': 2,\n",
    "    'OTHER': 3,\n",
    "    'NONE': 4,\n",
    "    }\n",
    "\n",
    "# Use the mapping to replace the strings with integers\n",
    "df['home_ownership'] = df['home_ownership'].replace(home_ownership_mapping)"
   ]
  },
  {
   "cell_type": "code",
   "execution_count": 21,
   "id": "b1e351dc",
   "metadata": {
    "colab": {
     "base_uri": "https://localhost:8080/"
    },
    "id": "b1e351dc",
    "outputId": "ea705f4c-91f0-47ff-8f98-bc81ff701d20"
   },
   "outputs": [
    {
     "data": {
      "text/plain": [
       "array([1, 0, 2, 3, 4], dtype=int64)"
      ]
     },
     "execution_count": 21,
     "metadata": {},
     "output_type": "execute_result"
    }
   ],
   "source": [
    "df.home_ownership.unique()"
   ]
  },
  {
   "cell_type": "code",
   "execution_count": 22,
   "id": "gC7DG_D4wgrp",
   "metadata": {
    "colab": {
     "base_uri": "https://localhost:8080/"
    },
    "id": "gC7DG_D4wgrp",
    "outputId": "9c6839a1-2616-4bdc-c2c2-8734cb0ae67f"
   },
   "outputs": [
    {
     "data": {
      "text/plain": [
       "0        1\n",
       "1        1\n",
       "2        1\n",
       "3        0\n",
       "4        1\n",
       "        ..\n",
       "38475    1\n",
       "38476    1\n",
       "38477    0\n",
       "38478    1\n",
       "38479    1\n",
       "Name: home_ownership, Length: 38480, dtype: int64"
      ]
     },
     "execution_count": 22,
     "metadata": {},
     "output_type": "execute_result"
    }
   ],
   "source": [
    "df.home_ownership"
   ]
  },
  {
   "cell_type": "code",
   "execution_count": 23,
   "id": "b42a9959",
   "metadata": {
    "colab": {
     "base_uri": "https://localhost:8080/"
    },
    "id": "b42a9959",
    "outputId": "e16c8cc3-d0d5-4fee-9c47-dc1689784342"
   },
   "outputs": [
    {
     "data": {
      "text/plain": [
       "array(['36 months', '60 months'], dtype=object)"
      ]
     },
     "execution_count": 23,
     "metadata": {},
     "output_type": "execute_result"
    }
   ],
   "source": [
    "df.term.unique()"
   ]
  },
  {
   "cell_type": "code",
   "execution_count": 24,
   "id": "7edabb28",
   "metadata": {
    "id": "7edabb28"
   },
   "outputs": [],
   "source": [
    "df.term=df['term'].str.replace(\"months\",\"\").astype(\"int64\")"
   ]
  },
  {
   "cell_type": "code",
   "execution_count": 25,
   "id": "5021fe27",
   "metadata": {
    "colab": {
     "base_uri": "https://localhost:8080/"
    },
    "id": "5021fe27",
    "outputId": "aa26a837-120e-4b31-bbf2-92d391fc427f"
   },
   "outputs": [
    {
     "data": {
      "text/plain": [
       "pandas.io.formats.format.DataFrameRenderer"
      ]
     },
     "execution_count": 25,
     "metadata": {},
     "output_type": "execute_result"
    }
   ],
   "source": [
    "from pandas.io.formats.format import DataFrameRenderer\n",
    "DataFrameRenderer"
   ]
  },
  {
   "cell_type": "code",
   "execution_count": 26,
   "id": "6ifEMA9mtkqb",
   "metadata": {
    "colab": {
     "base_uri": "https://localhost:8080/"
    },
    "id": "6ifEMA9mtkqb",
    "outputId": "87075155-9692-4ef5-e6db-529e6e0ae95d"
   },
   "outputs": [
    {
     "data": {
      "text/plain": [
       "0        36\n",
       "1        36\n",
       "2        36\n",
       "3        36\n",
       "4        36\n",
       "         ..\n",
       "38475    36\n",
       "38476    36\n",
       "38477    60\n",
       "38478    36\n",
       "38479    36\n",
       "Name: term, Length: 38480, dtype: int64"
      ]
     },
     "execution_count": 26,
     "metadata": {},
     "output_type": "execute_result"
    }
   ],
   "source": [
    "df.term"
   ]
  },
  {
   "cell_type": "code",
   "execution_count": 27,
   "id": "4127aa47",
   "metadata": {
    "colab": {
     "base_uri": "https://localhost:8080/"
    },
    "id": "4127aa47",
    "outputId": "5df50ed7-be4b-41c0-aeba-c4768a8887a1"
   },
   "outputs": [
    {
     "data": {
      "text/plain": [
       "<bound method Series.unique of 0           Not Verified\n",
       "1           Not Verified\n",
       "2           Not Verified\n",
       "3           Not Verified\n",
       "4           Not Verified\n",
       "              ...       \n",
       "38475           Verified\n",
       "38476    Source Verified\n",
       "38477    Source Verified\n",
       "38478       Not Verified\n",
       "38479    Source Verified\n",
       "Name: verification_status, Length: 38480, dtype: object>"
      ]
     },
     "execution_count": 27,
     "metadata": {},
     "output_type": "execute_result"
    }
   ],
   "source": [
    "df[\"verification_status\"].unique"
   ]
  },
  {
   "cell_type": "code",
   "execution_count": 28,
   "id": "9d929f8b",
   "metadata": {
    "id": "9d929f8b"
   },
   "outputs": [],
   "source": [
    "df[\"verification_status\"]=df[\"verification_status\"].replace('Source Verified','Verified')"
   ]
  },
  {
   "cell_type": "code",
   "execution_count": 29,
   "id": "41192caf",
   "metadata": {
    "colab": {
     "base_uri": "https://localhost:8080/"
    },
    "id": "41192caf",
    "outputId": "cb7c9b1b-05ea-42a6-92c7-a623a7f92583"
   },
   "outputs": [
    {
     "data": {
      "text/plain": [
       "array(['Not Verified', 'Verified'], dtype=object)"
      ]
     },
     "execution_count": 29,
     "metadata": {},
     "output_type": "execute_result"
    }
   ],
   "source": [
    "df.verification_status.unique()"
   ]
  },
  {
   "cell_type": "code",
   "execution_count": 30,
   "id": "144cac70",
   "metadata": {
    "colab": {
     "base_uri": "https://localhost:8080/"
    },
    "id": "144cac70",
    "outputId": "da08d14e-6dfe-4331-8a7f-72e74e3cad2b"
   },
   "outputs": [
    {
     "data": {
      "text/plain": [
       "array(['Charged Off',\n",
       "       'Does not meet the credit policy. Status:Fully Paid', 'Fully Paid',\n",
       "       'Current', 'Does not meet the credit policy. Status:Charged Off',\n",
       "       'Late (31-120 days)', 'In Grace Period', 'Late (16-30 days)',\n",
       "       'Default'], dtype=object)"
      ]
     },
     "execution_count": 30,
     "metadata": {},
     "output_type": "execute_result"
    }
   ],
   "source": [
    "df.loan_status.unique()"
   ]
  },
  {
   "cell_type": "code",
   "execution_count": 31,
   "id": "b2f2fffb",
   "metadata": {
    "colab": {
     "base_uri": "https://localhost:8080/"
    },
    "id": "b2f2fffb",
    "outputId": "9eaa621d-6678-40c8-9b94-13425f9d43b6"
   },
   "outputs": [
    {
     "data": {
      "text/plain": [
       "0        36\n",
       "1        36\n",
       "2        36\n",
       "3        36\n",
       "4        36\n",
       "         ..\n",
       "38475    36\n",
       "38476    36\n",
       "38477    60\n",
       "38478    36\n",
       "38479    36\n",
       "Name: term, Length: 38480, dtype: int64"
      ]
     },
     "execution_count": 31,
     "metadata": {},
     "output_type": "execute_result"
    }
   ],
   "source": [
    "df.term"
   ]
  },
  {
   "cell_type": "code",
   "execution_count": 32,
   "id": "574c4bb7",
   "metadata": {
    "colab": {
     "base_uri": "https://localhost:8080/"
    },
    "id": "574c4bb7",
    "outputId": "3a1ebc92-c1ed-4816-a2cf-f5da8c974155"
   },
   "outputs": [
    {
     "data": {
      "text/plain": [
       "(38480, 15)"
      ]
     },
     "execution_count": 32,
     "metadata": {},
     "output_type": "execute_result"
    }
   ],
   "source": [
    "df.shape"
   ]
  },
  {
   "cell_type": "code",
   "execution_count": 33,
   "id": "f6e58d3f",
   "metadata": {
    "colab": {
     "base_uri": "https://localhost:8080/"
    },
    "id": "f6e58d3f",
    "outputId": "594d791a-ea83-481f-d078-7c3756ce4ca4"
   },
   "outputs": [
    {
     "name": "stderr",
     "output_type": "stream",
     "text": [
      "C:\\Users\\abc\\AppData\\Local\\Temp\\ipykernel_7308\\1751626574.py:1: FutureWarning: The default value of regex will change from True to False in a future version.\n",
      "  df.loan_status=df.loan_status.str.replace(\"Does not meet the credit policy. Status:\",\"\")\n"
     ]
    }
   ],
   "source": [
    "df.loan_status=df.loan_status.str.replace(\"Does not meet the credit policy. Status:\",\"\")"
   ]
  },
  {
   "cell_type": "code",
   "execution_count": 34,
   "id": "58f77f18",
   "metadata": {
    "colab": {
     "base_uri": "https://localhost:8080/"
    },
    "id": "58f77f18",
    "outputId": "c718712e-f89d-437a-f52c-324c165de9e1"
   },
   "outputs": [
    {
     "data": {
      "text/plain": [
       "array(['Charged Off', 'Fully Paid', 'Current', 'Late (31-120 days)',\n",
       "       'In Grace Period', 'Late (16-30 days)', 'Default'], dtype=object)"
      ]
     },
     "execution_count": 34,
     "metadata": {},
     "output_type": "execute_result"
    }
   ],
   "source": [
    "df.loan_status.unique()"
   ]
  },
  {
   "cell_type": "code",
   "execution_count": 35,
   "id": "f63babd9",
   "metadata": {
    "id": "f63babd9"
   },
   "outputs": [],
   "source": [
    "df['loan_status'] = df['loan_status'].replace(['Late (31-120 days)','Late (16-30 days)'], 'Late ')"
   ]
  },
  {
   "cell_type": "code",
   "execution_count": 36,
   "id": "9ead3222",
   "metadata": {
    "colab": {
     "base_uri": "https://localhost:8080/"
    },
    "id": "9ead3222",
    "outputId": "61c967f1-0be3-4f9a-c404-de6d15e1f752"
   },
   "outputs": [
    {
     "data": {
      "text/plain": [
       "array(['Charged Off', 'Fully Paid', 'Current', 'Late ', 'In Grace Period',\n",
       "       'Default'], dtype=object)"
      ]
     },
     "execution_count": 36,
     "metadata": {},
     "output_type": "execute_result"
    }
   ],
   "source": [
    "df.loan_status.unique()"
   ]
  },
  {
   "cell_type": "code",
   "execution_count": 37,
   "id": "b03bb77a",
   "metadata": {
    "id": "b03bb77a"
   },
   "outputs": [],
   "source": [
    "emp_length_mapping = {\n",
    "    '< 1 year': 0,\n",
    "    '1 year': 1,\n",
    "    '2 years': 2,\n",
    "    '3 years': 3,\n",
    "    '4 years': 4,\n",
    "    '5 years': 5,\n",
    "    '6 years': 6,\n",
    "    '7 years': 7,\n",
    "    '8 years': 8,\n",
    "    '9 years': 9,\n",
    "    '10+ years': 10\n",
    "}\n",
    "\n",
    "# Use the mapping to replace the strings with integers\n",
    "df['emp_length'] = df['emp_length'].replace(emp_length_mapping)"
   ]
  },
  {
   "cell_type": "code",
   "execution_count": 38,
   "id": "8134b0e1",
   "metadata": {
    "colab": {
     "base_uri": "https://localhost:8080/"
    },
    "id": "8134b0e1",
    "outputId": "38e3bfff-06b3-491f-bfb6-b16f7a6dafe7"
   },
   "outputs": [
    {
     "data": {
      "text/plain": [
       "0         0.0\n",
       "1         4.0\n",
       "2         4.0\n",
       "3        10.0\n",
       "4        10.0\n",
       "         ... \n",
       "38475     3.0\n",
       "38476     9.0\n",
       "38477    10.0\n",
       "38478     1.0\n",
       "38479     7.0\n",
       "Name: emp_length, Length: 38480, dtype: float64"
      ]
     },
     "execution_count": 38,
     "metadata": {},
     "output_type": "execute_result"
    }
   ],
   "source": [
    "df['emp_length']"
   ]
  },
  {
   "cell_type": "code",
   "execution_count": 39,
   "id": "ddf1c3e3",
   "metadata": {
    "id": "ddf1c3e3"
   },
   "outputs": [],
   "source": [
    "df=df.dropna()"
   ]
  },
  {
   "cell_type": "code",
   "execution_count": 40,
   "id": "dfb80be4",
   "metadata": {
    "colab": {
     "base_uri": "https://localhost:8080/"
    },
    "id": "dfb80be4",
    "outputId": "a7ec37f2-f6c3-46d7-a21f-e0169f3183a9"
   },
   "outputs": [
    {
     "data": {
      "text/plain": [
       "funded_amnt            0\n",
       "term                   0\n",
       "int_rate               0\n",
       "installment            0\n",
       "emp_length             0\n",
       "home_ownership         0\n",
       "annual_inc             0\n",
       "verification_status    0\n",
       "loan_status            0\n",
       "purpose                0\n",
       "total_pymnt            0\n",
       "total_rec_prncp        0\n",
       "total_rec_int          0\n",
       "last_pymnt_amnt        0\n",
       "repay_fail             0\n",
       "dtype: int64"
      ]
     },
     "execution_count": 40,
     "metadata": {},
     "output_type": "execute_result"
    }
   ],
   "source": [
    "df.isnull().sum()"
   ]
  },
  {
   "cell_type": "code",
   "execution_count": 41,
   "id": "600c6130",
   "metadata": {
    "colab": {
     "base_uri": "https://localhost:8080/"
    },
    "id": "600c6130",
    "outputId": "2ca82084-abf0-485e-92c3-e824c4e419ac"
   },
   "outputs": [
    {
     "data": {
      "text/plain": [
       "(37485, 15)"
      ]
     },
     "execution_count": 41,
     "metadata": {},
     "output_type": "execute_result"
    }
   ],
   "source": [
    "df.shape"
   ]
  },
  {
   "cell_type": "code",
   "execution_count": 42,
   "id": "a1be6073",
   "metadata": {
    "id": "a1be6073"
   },
   "outputs": [],
   "source": [
    "#test train"
   ]
  },
  {
   "cell_type": "code",
   "execution_count": 43,
   "id": "a77156d2",
   "metadata": {
    "id": "a77156d2"
   },
   "outputs": [],
   "source": [
    "X_train,X_test,y_train,y_test = train_test_split(df.drop(columns=['repay_fail']),\n",
    "                                                 df['repay_fail'],\n",
    "                                                 test_size=0.2,\n",
    "                                                random_state=42)"
   ]
  },
  {
   "cell_type": "code",
   "execution_count": null,
   "id": "2b425076",
   "metadata": {
    "id": "2b425076"
   },
   "outputs": [],
   "source": []
  },
  {
   "cell_type": "markdown",
   "id": "458a9acc",
   "metadata": {
    "id": "458a9acc"
   },
   "source": []
  },
  {
   "cell_type": "code",
   "execution_count": null,
   "id": "db5784ff",
   "metadata": {
    "id": "db5784ff"
   },
   "outputs": [],
   "source": []
  },
  {
   "cell_type": "code",
   "execution_count": 44,
   "id": "c578b730",
   "metadata": {
    "id": "c578b730"
   },
   "outputs": [],
   "source": [
    "trf1 = ColumnTransformer([\n",
    "    ('ohe_home_ownership_verification_status_loan_status_purpose'\n",
    "     ,OneHotEncoder(sparse=False,handle_unknown='ignore'),[5,7,8,9,])\n",
    "],remainder='passthrough')"
   ]
  },
  {
   "cell_type": "code",
   "execution_count": 45,
   "id": "6d99e112",
   "metadata": {
    "id": "6d99e112"
   },
   "outputs": [],
   "source": [
    "# train the model\n",
    "trf2 = DecisionTreeClassifier()"
   ]
  },
  {
   "cell_type": "code",
   "execution_count": 46,
   "id": "af3f919f",
   "metadata": {
    "id": "af3f919f"
   },
   "outputs": [],
   "source": [
    "pipe = Pipeline([\n",
    "                ('trf1',trf1), #list name and object\n",
    "                ('trf2',trf2)])"
   ]
  },
  {
   "cell_type": "code",
   "execution_count": 47,
   "id": "c6344347",
   "metadata": {
    "colab": {
     "base_uri": "https://localhost:8080/",
     "height": 247
    },
    "id": "c6344347",
    "outputId": "e8c70f7d-5716-47b4-eb98-191f4a671031"
   },
   "outputs": [
    {
     "name": "stderr",
     "output_type": "stream",
     "text": [
      "C:\\Users\\abc\\anaconda3\\Lib\\site-packages\\sklearn\\preprocessing\\_encoders.py:868: FutureWarning: `sparse` was renamed to `sparse_output` in version 1.2 and will be removed in 1.4. `sparse_output` is ignored unless you leave `sparse` to its default value.\n",
      "  warnings.warn(\n"
     ]
    },
    {
     "data": {
      "text/html": [
       "<style>#sk-container-id-1 {color: black;background-color: white;}#sk-container-id-1 pre{padding: 0;}#sk-container-id-1 div.sk-toggleable {background-color: white;}#sk-container-id-1 label.sk-toggleable__label {cursor: pointer;display: block;width: 100%;margin-bottom: 0;padding: 0.3em;box-sizing: border-box;text-align: center;}#sk-container-id-1 label.sk-toggleable__label-arrow:before {content: \"▸\";float: left;margin-right: 0.25em;color: #696969;}#sk-container-id-1 label.sk-toggleable__label-arrow:hover:before {color: black;}#sk-container-id-1 div.sk-estimator:hover label.sk-toggleable__label-arrow:before {color: black;}#sk-container-id-1 div.sk-toggleable__content {max-height: 0;max-width: 0;overflow: hidden;text-align: left;background-color: #f0f8ff;}#sk-container-id-1 div.sk-toggleable__content pre {margin: 0.2em;color: black;border-radius: 0.25em;background-color: #f0f8ff;}#sk-container-id-1 input.sk-toggleable__control:checked~div.sk-toggleable__content {max-height: 200px;max-width: 100%;overflow: auto;}#sk-container-id-1 input.sk-toggleable__control:checked~label.sk-toggleable__label-arrow:before {content: \"▾\";}#sk-container-id-1 div.sk-estimator input.sk-toggleable__control:checked~label.sk-toggleable__label {background-color: #d4ebff;}#sk-container-id-1 div.sk-label input.sk-toggleable__control:checked~label.sk-toggleable__label {background-color: #d4ebff;}#sk-container-id-1 input.sk-hidden--visually {border: 0;clip: rect(1px 1px 1px 1px);clip: rect(1px, 1px, 1px, 1px);height: 1px;margin: -1px;overflow: hidden;padding: 0;position: absolute;width: 1px;}#sk-container-id-1 div.sk-estimator {font-family: monospace;background-color: #f0f8ff;border: 1px dotted black;border-radius: 0.25em;box-sizing: border-box;margin-bottom: 0.5em;}#sk-container-id-1 div.sk-estimator:hover {background-color: #d4ebff;}#sk-container-id-1 div.sk-parallel-item::after {content: \"\";width: 100%;border-bottom: 1px solid gray;flex-grow: 1;}#sk-container-id-1 div.sk-label:hover label.sk-toggleable__label {background-color: #d4ebff;}#sk-container-id-1 div.sk-serial::before {content: \"\";position: absolute;border-left: 1px solid gray;box-sizing: border-box;top: 0;bottom: 0;left: 50%;z-index: 0;}#sk-container-id-1 div.sk-serial {display: flex;flex-direction: column;align-items: center;background-color: white;padding-right: 0.2em;padding-left: 0.2em;position: relative;}#sk-container-id-1 div.sk-item {position: relative;z-index: 1;}#sk-container-id-1 div.sk-parallel {display: flex;align-items: stretch;justify-content: center;background-color: white;position: relative;}#sk-container-id-1 div.sk-item::before, #sk-container-id-1 div.sk-parallel-item::before {content: \"\";position: absolute;border-left: 1px solid gray;box-sizing: border-box;top: 0;bottom: 0;left: 50%;z-index: -1;}#sk-container-id-1 div.sk-parallel-item {display: flex;flex-direction: column;z-index: 1;position: relative;background-color: white;}#sk-container-id-1 div.sk-parallel-item:first-child::after {align-self: flex-end;width: 50%;}#sk-container-id-1 div.sk-parallel-item:last-child::after {align-self: flex-start;width: 50%;}#sk-container-id-1 div.sk-parallel-item:only-child::after {width: 0;}#sk-container-id-1 div.sk-dashed-wrapped {border: 1px dashed gray;margin: 0 0.4em 0.5em 0.4em;box-sizing: border-box;padding-bottom: 0.4em;background-color: white;}#sk-container-id-1 div.sk-label label {font-family: monospace;font-weight: bold;display: inline-block;line-height: 1.2em;}#sk-container-id-1 div.sk-label-container {text-align: center;}#sk-container-id-1 div.sk-container {/* jupyter's `normalize.less` sets `[hidden] { display: none; }` but bootstrap.min.css set `[hidden] { display: none !important; }` so we also need the `!important` here to be able to override the default hidden behavior on the sphinx rendered scikit-learn.org. See: https://github.com/scikit-learn/scikit-learn/issues/21755 */display: inline-block !important;position: relative;}#sk-container-id-1 div.sk-text-repr-fallback {display: none;}</style><div id=\"sk-container-id-1\" class=\"sk-top-container\"><div class=\"sk-text-repr-fallback\"><pre>Pipeline(steps=[(&#x27;trf1&#x27;,\n",
       "                 ColumnTransformer(remainder=&#x27;passthrough&#x27;,\n",
       "                                   transformers=[(&#x27;ohe_home_ownership_verification_status_loan_status_purpose&#x27;,\n",
       "                                                  OneHotEncoder(handle_unknown=&#x27;ignore&#x27;,\n",
       "                                                                sparse=False),\n",
       "                                                  [5, 7, 8, 9])])),\n",
       "                (&#x27;trf2&#x27;, DecisionTreeClassifier())])</pre><b>In a Jupyter environment, please rerun this cell to show the HTML representation or trust the notebook. <br />On GitHub, the HTML representation is unable to render, please try loading this page with nbviewer.org.</b></div><div class=\"sk-container\" hidden><div class=\"sk-item sk-dashed-wrapped\"><div class=\"sk-label-container\"><div class=\"sk-label sk-toggleable\"><input class=\"sk-toggleable__control sk-hidden--visually\" id=\"sk-estimator-id-1\" type=\"checkbox\" ><label for=\"sk-estimator-id-1\" class=\"sk-toggleable__label sk-toggleable__label-arrow\">Pipeline</label><div class=\"sk-toggleable__content\"><pre>Pipeline(steps=[(&#x27;trf1&#x27;,\n",
       "                 ColumnTransformer(remainder=&#x27;passthrough&#x27;,\n",
       "                                   transformers=[(&#x27;ohe_home_ownership_verification_status_loan_status_purpose&#x27;,\n",
       "                                                  OneHotEncoder(handle_unknown=&#x27;ignore&#x27;,\n",
       "                                                                sparse=False),\n",
       "                                                  [5, 7, 8, 9])])),\n",
       "                (&#x27;trf2&#x27;, DecisionTreeClassifier())])</pre></div></div></div><div class=\"sk-serial\"><div class=\"sk-item sk-dashed-wrapped\"><div class=\"sk-label-container\"><div class=\"sk-label sk-toggleable\"><input class=\"sk-toggleable__control sk-hidden--visually\" id=\"sk-estimator-id-2\" type=\"checkbox\" ><label for=\"sk-estimator-id-2\" class=\"sk-toggleable__label sk-toggleable__label-arrow\">trf1: ColumnTransformer</label><div class=\"sk-toggleable__content\"><pre>ColumnTransformer(remainder=&#x27;passthrough&#x27;,\n",
       "                  transformers=[(&#x27;ohe_home_ownership_verification_status_loan_status_purpose&#x27;,\n",
       "                                 OneHotEncoder(handle_unknown=&#x27;ignore&#x27;,\n",
       "                                               sparse=False),\n",
       "                                 [5, 7, 8, 9])])</pre></div></div></div><div class=\"sk-parallel\"><div class=\"sk-parallel-item\"><div class=\"sk-item\"><div class=\"sk-label-container\"><div class=\"sk-label sk-toggleable\"><input class=\"sk-toggleable__control sk-hidden--visually\" id=\"sk-estimator-id-3\" type=\"checkbox\" ><label for=\"sk-estimator-id-3\" class=\"sk-toggleable__label sk-toggleable__label-arrow\">ohe_home_ownership_verification_status_loan_status_purpose</label><div class=\"sk-toggleable__content\"><pre>[5, 7, 8, 9]</pre></div></div></div><div class=\"sk-serial\"><div class=\"sk-item\"><div class=\"sk-estimator sk-toggleable\"><input class=\"sk-toggleable__control sk-hidden--visually\" id=\"sk-estimator-id-4\" type=\"checkbox\" ><label for=\"sk-estimator-id-4\" class=\"sk-toggleable__label sk-toggleable__label-arrow\">OneHotEncoder</label><div class=\"sk-toggleable__content\"><pre>OneHotEncoder(handle_unknown=&#x27;ignore&#x27;, sparse=False)</pre></div></div></div></div></div></div><div class=\"sk-parallel-item\"><div class=\"sk-item\"><div class=\"sk-label-container\"><div class=\"sk-label sk-toggleable\"><input class=\"sk-toggleable__control sk-hidden--visually\" id=\"sk-estimator-id-5\" type=\"checkbox\" ><label for=\"sk-estimator-id-5\" class=\"sk-toggleable__label sk-toggleable__label-arrow\">remainder</label><div class=\"sk-toggleable__content\"><pre>[&#x27;funded_amnt&#x27;, &#x27;term&#x27;, &#x27;int_rate&#x27;, &#x27;installment&#x27;, &#x27;emp_length&#x27;, &#x27;annual_inc&#x27;, &#x27;total_pymnt&#x27;, &#x27;total_rec_prncp&#x27;, &#x27;total_rec_int&#x27;, &#x27;last_pymnt_amnt&#x27;]</pre></div></div></div><div class=\"sk-serial\"><div class=\"sk-item\"><div class=\"sk-estimator sk-toggleable\"><input class=\"sk-toggleable__control sk-hidden--visually\" id=\"sk-estimator-id-6\" type=\"checkbox\" ><label for=\"sk-estimator-id-6\" class=\"sk-toggleable__label sk-toggleable__label-arrow\">passthrough</label><div class=\"sk-toggleable__content\"><pre>passthrough</pre></div></div></div></div></div></div></div></div><div class=\"sk-item\"><div class=\"sk-estimator sk-toggleable\"><input class=\"sk-toggleable__control sk-hidden--visually\" id=\"sk-estimator-id-7\" type=\"checkbox\" ><label for=\"sk-estimator-id-7\" class=\"sk-toggleable__label sk-toggleable__label-arrow\">DecisionTreeClassifier</label><div class=\"sk-toggleable__content\"><pre>DecisionTreeClassifier()</pre></div></div></div></div></div></div></div>"
      ],
      "text/plain": [
       "Pipeline(steps=[('trf1',\n",
       "                 ColumnTransformer(remainder='passthrough',\n",
       "                                   transformers=[('ohe_home_ownership_verification_status_loan_status_purpose',\n",
       "                                                  OneHotEncoder(handle_unknown='ignore',\n",
       "                                                                sparse=False),\n",
       "                                                  [5, 7, 8, 9])])),\n",
       "                ('trf2', DecisionTreeClassifier())])"
      ]
     },
     "execution_count": 47,
     "metadata": {},
     "output_type": "execute_result"
    }
   ],
   "source": [
    "# train\n",
    "pipe.fit(X_train,y_train) #data ko pipe me fit krna he"
   ]
  },
  {
   "cell_type": "code",
   "execution_count": 48,
   "id": "45b5a272",
   "metadata": {
    "colab": {
     "base_uri": "https://localhost:8080/"
    },
    "id": "45b5a272",
    "outputId": "74d84d0a-18c0-409e-ce26-d778bfabbcb9"
   },
   "outputs": [
    {
     "data": {
      "text/plain": [
       "{'trf1': ColumnTransformer(remainder='passthrough',\n",
       "                   transformers=[('ohe_home_ownership_verification_status_loan_status_purpose',\n",
       "                                  OneHotEncoder(handle_unknown='ignore',\n",
       "                                                sparse=False),\n",
       "                                  [5, 7, 8, 9])]),\n",
       " 'trf2': DecisionTreeClassifier()}"
      ]
     },
     "execution_count": 48,
     "metadata": {},
     "output_type": "execute_result"
    }
   ],
   "source": [
    "# Code here\n",
    "pipe.named_steps"
   ]
  },
  {
   "cell_type": "code",
   "execution_count": 49,
   "id": "1a5771d3",
   "metadata": {
    "id": "1a5771d3"
   },
   "outputs": [],
   "source": [
    "# Predictions\n",
    "y_pred = pipe.predict(X_test)"
   ]
  },
  {
   "cell_type": "code",
   "execution_count": 50,
   "id": "aTJ3h2ZZydtz",
   "metadata": {
    "colab": {
     "base_uri": "https://localhost:8080/"
    },
    "id": "aTJ3h2ZZydtz",
    "outputId": "31378351-51aa-4fed-afd8-f44e84d01aac"
   },
   "outputs": [
    {
     "data": {
      "text/plain": [
       "1.0"
      ]
     },
     "execution_count": 50,
     "metadata": {},
     "output_type": "execute_result"
    }
   ],
   "source": [
    "#checking our model performence\n",
    "from sklearn.metrics import accuracy_score\n",
    "accuracy_score(y_test,y_pred)"
   ]
  },
  {
   "cell_type": "code",
   "execution_count": 51,
   "id": "wWoRF4po0wx3",
   "metadata": {
    "colab": {
     "base_uri": "https://localhost:8080/"
    },
    "id": "wWoRF4po0wx3",
    "outputId": "928ea7cc-eadb-4392-8a94-d7d8679441c2"
   },
   "outputs": [
    {
     "data": {
      "text/plain": [
       "(37485, 15)"
      ]
     },
     "execution_count": 51,
     "metadata": {},
     "output_type": "execute_result"
    }
   ],
   "source": [
    "df.shape"
   ]
  },
  {
   "cell_type": "code",
   "execution_count": 52,
   "id": "VOBkr_YkzfLS",
   "metadata": {
    "colab": {
     "base_uri": "https://localhost:8080/"
    },
    "id": "VOBkr_YkzfLS",
    "outputId": "b7959a2a-6787-428b-9770-9ff80e824576"
   },
   "outputs": [
    {
     "name": "stdout",
     "output_type": "stream",
     "text": [
      "              precision    recall  f1-score   support\n",
      "\n",
      "           0       1.00      1.00      1.00      6361\n",
      "           1       1.00      1.00      1.00      1136\n",
      "\n",
      "    accuracy                           1.00      7497\n",
      "   macro avg       1.00      1.00      1.00      7497\n",
      "weighted avg       1.00      1.00      1.00      7497\n",
      "\n"
     ]
    }
   ],
   "source": [
    "from sklearn.metrics import classification_report\n",
    "print(classification_report(y_test, y_pred))\n",
    "\n"
   ]
  },
  {
   "cell_type": "code",
   "execution_count": 53,
   "id": "4uegIk370Cnz",
   "metadata": {
    "colab": {
     "base_uri": "https://localhost:8080/",
     "height": 424
    },
    "id": "4uegIk370Cnz",
    "outputId": "2579604f-015d-4853-a6c6-3266ace3b281"
   },
   "outputs": [
    {
     "data": {
      "text/html": [
       "<div>\n",
       "<style scoped>\n",
       "    .dataframe tbody tr th:only-of-type {\n",
       "        vertical-align: middle;\n",
       "    }\n",
       "\n",
       "    .dataframe tbody tr th {\n",
       "        vertical-align: top;\n",
       "    }\n",
       "\n",
       "    .dataframe thead th {\n",
       "        text-align: right;\n",
       "    }\n",
       "</style>\n",
       "<table border=\"1\" class=\"dataframe\">\n",
       "  <thead>\n",
       "    <tr style=\"text-align: right;\">\n",
       "      <th></th>\n",
       "      <th>y_test</th>\n",
       "      <th>y_pred</th>\n",
       "    </tr>\n",
       "  </thead>\n",
       "  <tbody>\n",
       "    <tr>\n",
       "      <th>35496</th>\n",
       "      <td>1</td>\n",
       "      <td>1</td>\n",
       "    </tr>\n",
       "    <tr>\n",
       "      <th>12645</th>\n",
       "      <td>0</td>\n",
       "      <td>0</td>\n",
       "    </tr>\n",
       "    <tr>\n",
       "      <th>10055</th>\n",
       "      <td>0</td>\n",
       "      <td>0</td>\n",
       "    </tr>\n",
       "    <tr>\n",
       "      <th>6294</th>\n",
       "      <td>0</td>\n",
       "      <td>0</td>\n",
       "    </tr>\n",
       "    <tr>\n",
       "      <th>8819</th>\n",
       "      <td>0</td>\n",
       "      <td>0</td>\n",
       "    </tr>\n",
       "    <tr>\n",
       "      <th>...</th>\n",
       "      <td>...</td>\n",
       "      <td>...</td>\n",
       "    </tr>\n",
       "    <tr>\n",
       "      <th>8806</th>\n",
       "      <td>0</td>\n",
       "      <td>0</td>\n",
       "    </tr>\n",
       "    <tr>\n",
       "      <th>9165</th>\n",
       "      <td>0</td>\n",
       "      <td>0</td>\n",
       "    </tr>\n",
       "    <tr>\n",
       "      <th>10965</th>\n",
       "      <td>1</td>\n",
       "      <td>1</td>\n",
       "    </tr>\n",
       "    <tr>\n",
       "      <th>5684</th>\n",
       "      <td>0</td>\n",
       "      <td>0</td>\n",
       "    </tr>\n",
       "    <tr>\n",
       "      <th>36445</th>\n",
       "      <td>1</td>\n",
       "      <td>1</td>\n",
       "    </tr>\n",
       "  </tbody>\n",
       "</table>\n",
       "<p>7497 rows × 2 columns</p>\n",
       "</div>"
      ],
      "text/plain": [
       "       y_test  y_pred\n",
       "35496       1       1\n",
       "12645       0       0\n",
       "10055       0       0\n",
       "6294        0       0\n",
       "8819        0       0\n",
       "...       ...     ...\n",
       "8806        0       0\n",
       "9165        0       0\n",
       "10965       1       1\n",
       "5684        0       0\n",
       "36445       1       1\n",
       "\n",
       "[7497 rows x 2 columns]"
      ]
     },
     "execution_count": 53,
     "metadata": {},
     "output_type": "execute_result"
    }
   ],
   "source": [
    "pd.DataFrame({'y_test':y_test, 'y_pred':y_pred})"
   ]
  },
  {
   "cell_type": "code",
   "execution_count": 54,
   "id": "o45HkFYF2OtL",
   "metadata": {
    "colab": {
     "base_uri": "https://localhost:8080/",
     "height": 444
    },
    "id": "o45HkFYF2OtL",
    "outputId": "2e91db37-1460-4d2e-e4bf-4e6d46028c10"
   },
   "outputs": [
    {
     "data": {
      "text/html": [
       "<div>\n",
       "<style scoped>\n",
       "    .dataframe tbody tr th:only-of-type {\n",
       "        vertical-align: middle;\n",
       "    }\n",
       "\n",
       "    .dataframe tbody tr th {\n",
       "        vertical-align: top;\n",
       "    }\n",
       "\n",
       "    .dataframe thead th {\n",
       "        text-align: right;\n",
       "    }\n",
       "</style>\n",
       "<table border=\"1\" class=\"dataframe\">\n",
       "  <thead>\n",
       "    <tr style=\"text-align: right;\">\n",
       "      <th></th>\n",
       "      <th>funded_amnt</th>\n",
       "      <th>term</th>\n",
       "      <th>int_rate</th>\n",
       "      <th>installment</th>\n",
       "      <th>emp_length</th>\n",
       "      <th>home_ownership</th>\n",
       "      <th>annual_inc</th>\n",
       "      <th>verification_status</th>\n",
       "      <th>loan_status</th>\n",
       "      <th>purpose</th>\n",
       "      <th>total_pymnt</th>\n",
       "      <th>total_rec_prncp</th>\n",
       "      <th>total_rec_int</th>\n",
       "      <th>last_pymnt_amnt</th>\n",
       "      <th>repay_fail</th>\n",
       "    </tr>\n",
       "  </thead>\n",
       "  <tbody>\n",
       "    <tr>\n",
       "      <th>5376</th>\n",
       "      <td>25000.0</td>\n",
       "      <td>60</td>\n",
       "      <td>20.25</td>\n",
       "      <td>665.83</td>\n",
       "      <td>7.0</td>\n",
       "      <td>0</td>\n",
       "      <td>81996.0</td>\n",
       "      <td>Verified</td>\n",
       "      <td>Fully Paid</td>\n",
       "      <td>debt_consolidation</td>\n",
       "      <td>38177.800000</td>\n",
       "      <td>25000.00</td>\n",
       "      <td>13177.80</td>\n",
       "      <td>11548.71</td>\n",
       "      <td>0</td>\n",
       "    </tr>\n",
       "    <tr>\n",
       "      <th>27364</th>\n",
       "      <td>6000.0</td>\n",
       "      <td>60</td>\n",
       "      <td>13.06</td>\n",
       "      <td>136.71</td>\n",
       "      <td>10.0</td>\n",
       "      <td>1</td>\n",
       "      <td>110000.0</td>\n",
       "      <td>Verified</td>\n",
       "      <td>Fully Paid</td>\n",
       "      <td>debt_consolidation</td>\n",
       "      <td>8055.810001</td>\n",
       "      <td>6000.00</td>\n",
       "      <td>2055.81</td>\n",
       "      <td>1925.25</td>\n",
       "      <td>0</td>\n",
       "    </tr>\n",
       "    <tr>\n",
       "      <th>36724</th>\n",
       "      <td>25000.0</td>\n",
       "      <td>36</td>\n",
       "      <td>16.07</td>\n",
       "      <td>879.85</td>\n",
       "      <td>4.0</td>\n",
       "      <td>0</td>\n",
       "      <td>120000.0</td>\n",
       "      <td>Verified</td>\n",
       "      <td>Fully Paid</td>\n",
       "      <td>debt_consolidation</td>\n",
       "      <td>38079.809150</td>\n",
       "      <td>25000.00</td>\n",
       "      <td>13079.81</td>\n",
       "      <td>7912.97</td>\n",
       "      <td>0</td>\n",
       "    </tr>\n",
       "    <tr>\n",
       "      <th>4911</th>\n",
       "      <td>4000.0</td>\n",
       "      <td>36</td>\n",
       "      <td>13.99</td>\n",
       "      <td>136.70</td>\n",
       "      <td>2.0</td>\n",
       "      <td>1</td>\n",
       "      <td>45468.0</td>\n",
       "      <td>Not Verified</td>\n",
       "      <td>Fully Paid</td>\n",
       "      <td>credit_card</td>\n",
       "      <td>4396.533195</td>\n",
       "      <td>4000.00</td>\n",
       "      <td>396.53</td>\n",
       "      <td>172.75</td>\n",
       "      <td>0</td>\n",
       "    </tr>\n",
       "    <tr>\n",
       "      <th>32881</th>\n",
       "      <td>10000.0</td>\n",
       "      <td>36</td>\n",
       "      <td>13.16</td>\n",
       "      <td>337.71</td>\n",
       "      <td>2.0</td>\n",
       "      <td>1</td>\n",
       "      <td>33500.0</td>\n",
       "      <td>Verified</td>\n",
       "      <td>Fully Paid</td>\n",
       "      <td>small_business</td>\n",
       "      <td>10619.843050</td>\n",
       "      <td>10000.00</td>\n",
       "      <td>619.84</td>\n",
       "      <td>8932.31</td>\n",
       "      <td>0</td>\n",
       "    </tr>\n",
       "    <tr>\n",
       "      <th>...</th>\n",
       "      <td>...</td>\n",
       "      <td>...</td>\n",
       "      <td>...</td>\n",
       "      <td>...</td>\n",
       "      <td>...</td>\n",
       "      <td>...</td>\n",
       "      <td>...</td>\n",
       "      <td>...</td>\n",
       "      <td>...</td>\n",
       "      <td>...</td>\n",
       "      <td>...</td>\n",
       "      <td>...</td>\n",
       "      <td>...</td>\n",
       "      <td>...</td>\n",
       "      <td>...</td>\n",
       "    </tr>\n",
       "    <tr>\n",
       "      <th>38454</th>\n",
       "      <td>15450.0</td>\n",
       "      <td>36</td>\n",
       "      <td>17.86</td>\n",
       "      <td>557.48</td>\n",
       "      <td>4.0</td>\n",
       "      <td>0</td>\n",
       "      <td>140000.0</td>\n",
       "      <td>Not Verified</td>\n",
       "      <td>Charged Off</td>\n",
       "      <td>debt_consolidation</td>\n",
       "      <td>5571.400000</td>\n",
       "      <td>3501.49</td>\n",
       "      <td>2069.91</td>\n",
       "      <td>557.48</td>\n",
       "      <td>1</td>\n",
       "    </tr>\n",
       "    <tr>\n",
       "      <th>38456</th>\n",
       "      <td>12000.0</td>\n",
       "      <td>60</td>\n",
       "      <td>10.99</td>\n",
       "      <td>260.85</td>\n",
       "      <td>10.0</td>\n",
       "      <td>0</td>\n",
       "      <td>55000.0</td>\n",
       "      <td>Verified</td>\n",
       "      <td>Charged Off</td>\n",
       "      <td>major_purchase</td>\n",
       "      <td>9006.520000</td>\n",
       "      <td>5371.48</td>\n",
       "      <td>2697.51</td>\n",
       "      <td>260.85</td>\n",
       "      <td>1</td>\n",
       "    </tr>\n",
       "    <tr>\n",
       "      <th>38458</th>\n",
       "      <td>4500.0</td>\n",
       "      <td>36</td>\n",
       "      <td>14.30</td>\n",
       "      <td>154.46</td>\n",
       "      <td>4.0</td>\n",
       "      <td>1</td>\n",
       "      <td>32500.0</td>\n",
       "      <td>Verified</td>\n",
       "      <td>Charged Off</td>\n",
       "      <td>debt_consolidation</td>\n",
       "      <td>1388.790000</td>\n",
       "      <td>951.07</td>\n",
       "      <td>437.72</td>\n",
       "      <td>154.46</td>\n",
       "      <td>1</td>\n",
       "    </tr>\n",
       "    <tr>\n",
       "      <th>38471</th>\n",
       "      <td>1500.0</td>\n",
       "      <td>36</td>\n",
       "      <td>16.29</td>\n",
       "      <td>52.96</td>\n",
       "      <td>1.0</td>\n",
       "      <td>1</td>\n",
       "      <td>27000.0</td>\n",
       "      <td>Not Verified</td>\n",
       "      <td>Charged Off</td>\n",
       "      <td>wedding</td>\n",
       "      <td>86.050000</td>\n",
       "      <td>0.00</td>\n",
       "      <td>0.00</td>\n",
       "      <td>0.00</td>\n",
       "      <td>1</td>\n",
       "    </tr>\n",
       "    <tr>\n",
       "      <th>38474</th>\n",
       "      <td>6925.0</td>\n",
       "      <td>36</td>\n",
       "      <td>9.62</td>\n",
       "      <td>222.22</td>\n",
       "      <td>0.0</td>\n",
       "      <td>1</td>\n",
       "      <td>78000.0</td>\n",
       "      <td>Verified</td>\n",
       "      <td>Charged Off</td>\n",
       "      <td>debt_consolidation</td>\n",
       "      <td>6108.790000</td>\n",
       "      <td>4994.45</td>\n",
       "      <td>995.23</td>\n",
       "      <td>222.22</td>\n",
       "      <td>1</td>\n",
       "    </tr>\n",
       "  </tbody>\n",
       "</table>\n",
       "<p>11218 rows × 15 columns</p>\n",
       "</div>"
      ],
      "text/plain": [
       "       funded_amnt  term  int_rate  installment  emp_length  home_ownership  \\\n",
       "5376       25000.0    60     20.25       665.83         7.0               0   \n",
       "27364       6000.0    60     13.06       136.71        10.0               1   \n",
       "36724      25000.0    36     16.07       879.85         4.0               0   \n",
       "4911        4000.0    36     13.99       136.70         2.0               1   \n",
       "32881      10000.0    36     13.16       337.71         2.0               1   \n",
       "...            ...   ...       ...          ...         ...             ...   \n",
       "38454      15450.0    36     17.86       557.48         4.0               0   \n",
       "38456      12000.0    60     10.99       260.85        10.0               0   \n",
       "38458       4500.0    36     14.30       154.46         4.0               1   \n",
       "38471       1500.0    36     16.29        52.96         1.0               1   \n",
       "38474       6925.0    36      9.62       222.22         0.0               1   \n",
       "\n",
       "       annual_inc verification_status  loan_status             purpose  \\\n",
       "5376      81996.0            Verified   Fully Paid  debt_consolidation   \n",
       "27364    110000.0            Verified   Fully Paid  debt_consolidation   \n",
       "36724    120000.0            Verified   Fully Paid  debt_consolidation   \n",
       "4911      45468.0        Not Verified   Fully Paid         credit_card   \n",
       "32881     33500.0            Verified   Fully Paid      small_business   \n",
       "...           ...                 ...          ...                 ...   \n",
       "38454    140000.0        Not Verified  Charged Off  debt_consolidation   \n",
       "38456     55000.0            Verified  Charged Off      major_purchase   \n",
       "38458     32500.0            Verified  Charged Off  debt_consolidation   \n",
       "38471     27000.0        Not Verified  Charged Off             wedding   \n",
       "38474     78000.0            Verified  Charged Off  debt_consolidation   \n",
       "\n",
       "        total_pymnt  total_rec_prncp  total_rec_int  last_pymnt_amnt  \\\n",
       "5376   38177.800000         25000.00       13177.80         11548.71   \n",
       "27364   8055.810001          6000.00        2055.81          1925.25   \n",
       "36724  38079.809150         25000.00       13079.81          7912.97   \n",
       "4911    4396.533195          4000.00         396.53           172.75   \n",
       "32881  10619.843050         10000.00         619.84          8932.31   \n",
       "...             ...              ...            ...              ...   \n",
       "38454   5571.400000          3501.49        2069.91           557.48   \n",
       "38456   9006.520000          5371.48        2697.51           260.85   \n",
       "38458   1388.790000           951.07         437.72           154.46   \n",
       "38471     86.050000             0.00           0.00             0.00   \n",
       "38474   6108.790000          4994.45         995.23           222.22   \n",
       "\n",
       "       repay_fail  \n",
       "5376            0  \n",
       "27364           0  \n",
       "36724           0  \n",
       "4911            0  \n",
       "32881           0  \n",
       "...           ...  \n",
       "38454           1  \n",
       "38456           1  \n",
       "38458           1  \n",
       "38471           1  \n",
       "38474           1  \n",
       "\n",
       "[11218 rows x 15 columns]"
      ]
     },
     "execution_count": 54,
     "metadata": {},
     "output_type": "execute_result"
    }
   ],
   "source": [
    "class_0 = df[df.repay_fail==0].sample(5609)\n",
    "class_1 = df[df.repay_fail==1]\n",
    "\n",
    "balance_data = pd.concat([class_0 , class_1])\n",
    "balance_data"
   ]
  },
  {
   "cell_type": "code",
   "execution_count": null,
   "id": "J1AFmMi72Ua9",
   "metadata": {
    "id": "J1AFmMi72Ua9"
   },
   "outputs": [],
   "source": []
  },
  {
   "cell_type": "code",
   "execution_count": 55,
   "id": "zJqreKax4H4s",
   "metadata": {
    "id": "zJqreKax4H4s"
   },
   "outputs": [],
   "source": [
    "trf1 = ColumnTransformer([\n",
    "    ('ohe_home_ownership_verification_status_loan_status_purpose'\n",
    "     ,OneHotEncoder(sparse=False,handle_unknown='ignore'),[5,7,8,9,])\n",
    "],remainder='passthrough')"
   ]
  },
  {
   "cell_type": "code",
   "execution_count": 56,
   "id": "37DZemnH3Mvs",
   "metadata": {
    "id": "37DZemnH3Mvs"
   },
   "outputs": [],
   "source": [
    "X_train,X_test,y_train,y_test = train_test_split(balance_data.drop(columns=['repay_fail']),\n",
    "                                                balance_data['repay_fail'],\n",
    "                                                 test_size=0.2,\n",
    "                                                random_state=42)"
   ]
  },
  {
   "cell_type": "code",
   "execution_count": 57,
   "id": "nmNGc5Dk3x02",
   "metadata": {
    "colab": {
     "base_uri": "https://localhost:8080/"
    },
    "id": "nmNGc5Dk3x02",
    "outputId": "ae685e17-b7da-4829-b9d2-46ea7ae3b53d"
   },
   "outputs": [
    {
     "data": {
      "text/plain": [
       "(8974, 14)"
      ]
     },
     "execution_count": 57,
     "metadata": {},
     "output_type": "execute_result"
    }
   ],
   "source": [
    "X_train.shape"
   ]
  },
  {
   "cell_type": "code",
   "execution_count": 58,
   "id": "7acebbc2",
   "metadata": {
    "id": "7acebbc2"
   },
   "outputs": [],
   "source": [
    "import tensorflow"
   ]
  },
  {
   "cell_type": "code",
   "execution_count": 59,
   "id": "c274d42a",
   "metadata": {
    "id": "c274d42a"
   },
   "outputs": [],
   "source": [
    "\n",
    "from tensorflow.keras import models\n",
    "from tensorflow.keras import layers\n",
    "from tensorflow import keras"
   ]
  },
  {
   "cell_type": "code",
   "execution_count": 60,
   "id": "c84833dd",
   "metadata": {
    "id": "c84833dd"
   },
   "outputs": [],
   "source": [
    "\n",
    "\n",
    "  model =keras.Sequential()\n",
    "  model.add(layers.Dense(100, activation=\"relu\",input_shape=(14,))) #(28*28,))) 1 d array\n",
    "  #relu and foftmax are activation function\n",
    "  model.add(layers.Dense(2, activation=\"sigmoid\"))#activation function =linearity to non linear\n",
    "  #2 layers of sequential (added vertically)\n",
    "  #layer 1 has 512 neurons\n",
    "  #layer 2 has 10 neurons\n",
    "  model.compile(loss='binary_crossentropy',optimizer='rmsprop',metrics=['accuracy'])\n",
    "\n",
    "\n"
   ]
  },
  {
   "cell_type": "code",
   "execution_count": null,
   "id": "2afe3526",
   "metadata": {
    "colab": {
     "base_uri": "https://localhost:8080/",
     "height": 321
    },
    "id": "2afe3526",
    "outputId": "d9d9d9b4-8af9-45a9-f4b0-b2bbfe4c946e"
   },
   "outputs": [],
   "source": [
    "history=model.fit(X_train, y_train, epochs=30,batch_size=2,verbose=1)"
   ]
  },
  {
   "cell_type": "code",
   "execution_count": null,
   "id": "29a31ddf",
   "metadata": {
    "id": "29a31ddf"
   },
   "outputs": [],
   "source": [
    "pipe = Pipeline([\n",
    "                ('trf1',trf1), #list name and object\n",
    "\n",
    "                    (\"model\",model()) ])"
   ]
  },
  {
   "cell_type": "code",
   "execution_count": null,
   "id": "1633346b",
   "metadata": {
    "id": "1633346b"
   },
   "outputs": [],
   "source": [
    "pipe.fit(X_train, y_train)"
   ]
  },
  {
   "cell_type": "code",
   "execution_count": null,
   "id": "713a70ae",
   "metadata": {
    "id": "713a70ae"
   },
   "outputs": [],
   "source": [
    "y_pred = pipe.predict(X_test)"
   ]
  },
  {
   "cell_type": "code",
   "execution_count": null,
   "id": "c9ae4bfa",
   "metadata": {
    "id": "c9ae4bfa"
   },
   "outputs": [],
   "source": [
    "# Getting predictions for the test set\n",
    "y_pred = model.predict_classes(X_test)\n",
    "# Getting accuracy score\n",
    "from sklearn.metrics import accuracy_score\n",
    "accuracy_score(y_test,y_pred)"
   ]
  },
  {
   "cell_type": "code",
   "execution_count": null,
   "id": "17a7e100",
   "metadata": {
    "id": "17a7e100"
   },
   "outputs": [],
   "source": []
  },
  {
   "cell_type": "code",
   "execution_count": null,
   "id": "ebd7b154",
   "metadata": {
    "id": "ebd7b154"
   },
   "outputs": [],
   "source": []
  },
  {
   "cell_type": "code",
   "execution_count": null,
   "id": "3f29362d",
   "metadata": {
    "colab": {
     "base_uri": "https://localhost:8080/",
     "height": 192
    },
    "id": "3f29362d",
    "outputId": "7a3fe4a6-bccc-428c-dea8-ff08c3a48e43"
   },
   "outputs": [],
   "source": [
    "pipe.fit(X_train,y_train)"
   ]
  },
  {
   "cell_type": "code",
   "execution_count": null,
   "id": "UYZID-l_xZLs",
   "metadata": {
    "id": "UYZID-l_xZLs"
   },
   "outputs": [],
   "source": [
    "!pip install pycaret #ye sb classifiers ko compare kare ga\n",
    "#for  machine learning\n"
   ]
  },
  {
   "cell_type": "code",
   "execution_count": null,
   "id": "jyyxN2xB6cgx",
   "metadata": {
    "colab": {
     "base_uri": "https://localhost:8080/"
    },
    "id": "jyyxN2xB6cgx",
    "outputId": "06779b48-fac5-46f0-add2-9d7da62cf451"
   },
   "outputs": [],
   "source": [
    "!pip install autokeras #for deep learning"
   ]
  },
  {
   "cell_type": "code",
   "execution_count": null,
   "id": "8d71d723",
   "metadata": {
    "id": "8d71d723"
   },
   "outputs": [],
   "source": [
    "from pycaret.classification import compare_models"
   ]
  },
  {
   "cell_type": "code",
   "execution_count": null,
   "id": "fb979f10",
   "metadata": {
    "id": "fb979f10"
   },
   "outputs": [],
   "source": [
    "from pycaret.classification import setup"
   ]
  },
  {
   "cell_type": "code",
   "execution_count": null,
   "id": "Mt5VN5iLxKWT",
   "metadata": {
    "colab": {
     "base_uri": "https://localhost:8080/",
     "height": 788
    },
    "id": "Mt5VN5iLxKWT",
    "outputId": "035647c4-8cd4-4432-adf0-3a9a1ba16071"
   },
   "outputs": [],
   "source": [
    "grid=setup(data=df,target=df.columns[-1])\n",
    "grid"
   ]
  },
  {
   "cell_type": "code",
   "execution_count": null,
   "id": "VT-ebcIgznch",
   "metadata": {
    "colab": {
     "base_uri": "https://localhost:8080/",
     "height": 520,
     "referenced_widgets": [
      "3d35ee89d602436ea7abfd37fd0ac6dd",
      "9ada87b1d0c04577b22072f7296d6744",
      "cb9f4e6a0a2b4b9b879029b2c3286c63",
      "219b78c604744750a81a7f1b708f3ec1",
      "65f6ab8335334eaeb9f9a44d4fd1dee2",
      "72cf8ceb774f469883dd5cb9e065d303",
      "2a4a88c878794d0f915a35833a0e7c77",
      "7681e698fe184dabb12a0baed90f6f2a",
      "7b44bb56d4b94422a489d4361fa82989",
      "cee0ac4143064fdc8088496e16a7add5",
      "f0100bcce1ec474c98731ca086b239a6"
     ]
    },
    "id": "VT-ebcIgznch",
    "outputId": "15814f02-1299-4d54-d3e4-352982c387d5"
   },
   "outputs": [],
   "source": [
    "best=compare_models()"
   ]
  },
  {
   "cell_type": "code",
   "execution_count": null,
   "id": "or2hLEW1zxvQ",
   "metadata": {
    "id": "or2hLEW1zxvQ"
   },
   "outputs": [],
   "source": []
  },
  {
   "cell_type": "code",
   "execution_count": null,
   "id": "SyTvZlM7_MwY",
   "metadata": {
    "colab": {
     "base_uri": "https://localhost:8080/"
    },
    "id": "SyTvZlM7_MwY",
    "outputId": "c89cad0d-82c4-480b-85ac-420dd5dba035"
   },
   "outputs": [],
   "source": [
    "import autokeras\n",
    "from autokeras import StructuredDataClassifier"
   ]
  },
  {
   "cell_type": "code",
   "execution_count": null,
   "id": "FgVz87VMASIA",
   "metadata": {
    "id": "FgVz87VMASIA"
   },
   "outputs": [],
   "source": [
    "search=StructuredDataClassifier(max_trials=15)"
   ]
  },
  {
   "cell_type": "code",
   "execution_count": null,
   "id": "YCTOa7BAAdbq",
   "metadata": {
    "colab": {
     "base_uri": "https://localhost:8080/"
    },
    "id": "YCTOa7BAAdbq",
    "outputId": "90c629c4-bf3c-4a29-ebb6-0d80c5209012"
   },
   "outputs": [],
   "source": [
    "search.fit(x=X_train,y=y_train,verbose=1)"
   ]
  },
  {
   "cell_type": "code",
   "execution_count": null,
   "id": "09be0b13",
   "metadata": {},
   "outputs": [],
   "source": []
  },
  {
   "cell_type": "code",
   "execution_count": null,
   "id": "de59bd5d",
   "metadata": {},
   "outputs": [],
   "source": []
  },
  {
   "cell_type": "code",
   "execution_count": null,
   "id": "a144e62c",
   "metadata": {},
   "outputs": [],
   "source": []
  },
  {
   "cell_type": "code",
   "execution_count": null,
   "id": "eb6acba8",
   "metadata": {},
   "outputs": [],
   "source": []
  },
  {
   "cell_type": "code",
   "execution_count": null,
   "id": "acf54956",
   "metadata": {},
   "outputs": [],
   "source": []
  },
  {
   "cell_type": "code",
   "execution_count": null,
   "id": "c62a2377",
   "metadata": {},
   "outputs": [],
   "source": []
  },
  {
   "cell_type": "code",
   "execution_count": null,
   "id": "7e39375b",
   "metadata": {},
   "outputs": [],
   "source": []
  },
  {
   "cell_type": "code",
   "execution_count": null,
   "id": "e4a259a0",
   "metadata": {},
   "outputs": [],
   "source": []
  },
  {
   "cell_type": "code",
   "execution_count": null,
   "id": "0aecb256",
   "metadata": {},
   "outputs": [],
   "source": []
  },
  {
   "cell_type": "code",
   "execution_count": null,
   "id": "1196a72b",
   "metadata": {},
   "outputs": [],
   "source": []
  },
  {
   "cell_type": "code",
   "execution_count": null,
   "id": "084f2a52",
   "metadata": {},
   "outputs": [],
   "source": []
  }
 ],
 "metadata": {
  "colab": {
   "provenance": []
  },
  "kernelspec": {
   "display_name": "Python 3 (ipykernel)",
   "language": "python",
   "name": "python3"
  },
  "language_info": {
   "codemirror_mode": {
    "name": "ipython",
    "version": 3
   },
   "file_extension": ".py",
   "mimetype": "text/x-python",
   "name": "python",
   "nbconvert_exporter": "python",
   "pygments_lexer": "ipython3",
   "version": "3.11.3"
  },
  "widgets": {
   "application/vnd.jupyter.widget-state+json": {
    "219b78c604744750a81a7f1b708f3ec1": {
     "model_module": "@jupyter-widgets/controls",
     "model_module_version": "1.5.0",
     "model_name": "HTMLModel",
     "state": {
      "_dom_classes": [],
      "_model_module": "@jupyter-widgets/controls",
      "_model_module_version": "1.5.0",
      "_model_name": "HTMLModel",
      "_view_count": null,
      "_view_module": "@jupyter-widgets/controls",
      "_view_module_version": "1.5.0",
      "_view_name": "HTMLView",
      "description": "",
      "description_tooltip": null,
      "layout": "IPY_MODEL_cee0ac4143064fdc8088496e16a7add5",
      "placeholder": "​",
      "style": "IPY_MODEL_f0100bcce1ec474c98731ca086b239a6",
      "value": " 65/65 [06:15&lt;00:00,  1.14s/it]"
     }
    },
    "2a4a88c878794d0f915a35833a0e7c77": {
     "model_module": "@jupyter-widgets/controls",
     "model_module_version": "1.5.0",
     "model_name": "DescriptionStyleModel",
     "state": {
      "_model_module": "@jupyter-widgets/controls",
      "_model_module_version": "1.5.0",
      "_model_name": "DescriptionStyleModel",
      "_view_count": null,
      "_view_module": "@jupyter-widgets/base",
      "_view_module_version": "1.2.0",
      "_view_name": "StyleView",
      "description_width": ""
     }
    },
    "3d35ee89d602436ea7abfd37fd0ac6dd": {
     "model_module": "@jupyter-widgets/controls",
     "model_module_version": "1.5.0",
     "model_name": "HBoxModel",
     "state": {
      "_dom_classes": [],
      "_model_module": "@jupyter-widgets/controls",
      "_model_module_version": "1.5.0",
      "_model_name": "HBoxModel",
      "_view_count": null,
      "_view_module": "@jupyter-widgets/controls",
      "_view_module_version": "1.5.0",
      "_view_name": "HBoxView",
      "box_style": "",
      "children": [
       "IPY_MODEL_9ada87b1d0c04577b22072f7296d6744",
       "IPY_MODEL_cb9f4e6a0a2b4b9b879029b2c3286c63",
       "IPY_MODEL_219b78c604744750a81a7f1b708f3ec1"
      ],
      "layout": "IPY_MODEL_65f6ab8335334eaeb9f9a44d4fd1dee2"
     }
    },
    "65f6ab8335334eaeb9f9a44d4fd1dee2": {
     "model_module": "@jupyter-widgets/base",
     "model_module_version": "1.2.0",
     "model_name": "LayoutModel",
     "state": {
      "_model_module": "@jupyter-widgets/base",
      "_model_module_version": "1.2.0",
      "_model_name": "LayoutModel",
      "_view_count": null,
      "_view_module": "@jupyter-widgets/base",
      "_view_module_version": "1.2.0",
      "_view_name": "LayoutView",
      "align_content": null,
      "align_items": null,
      "align_self": null,
      "border": null,
      "bottom": null,
      "display": null,
      "flex": null,
      "flex_flow": null,
      "grid_area": null,
      "grid_auto_columns": null,
      "grid_auto_flow": null,
      "grid_auto_rows": null,
      "grid_column": null,
      "grid_gap": null,
      "grid_row": null,
      "grid_template_areas": null,
      "grid_template_columns": null,
      "grid_template_rows": null,
      "height": null,
      "justify_content": null,
      "justify_items": null,
      "left": null,
      "margin": null,
      "max_height": null,
      "max_width": null,
      "min_height": null,
      "min_width": null,
      "object_fit": null,
      "object_position": null,
      "order": null,
      "overflow": null,
      "overflow_x": null,
      "overflow_y": null,
      "padding": null,
      "right": null,
      "top": null,
      "visibility": "hidden",
      "width": null
     }
    },
    "72cf8ceb774f469883dd5cb9e065d303": {
     "model_module": "@jupyter-widgets/base",
     "model_module_version": "1.2.0",
     "model_name": "LayoutModel",
     "state": {
      "_model_module": "@jupyter-widgets/base",
      "_model_module_version": "1.2.0",
      "_model_name": "LayoutModel",
      "_view_count": null,
      "_view_module": "@jupyter-widgets/base",
      "_view_module_version": "1.2.0",
      "_view_name": "LayoutView",
      "align_content": null,
      "align_items": null,
      "align_self": null,
      "border": null,
      "bottom": null,
      "display": null,
      "flex": null,
      "flex_flow": null,
      "grid_area": null,
      "grid_auto_columns": null,
      "grid_auto_flow": null,
      "grid_auto_rows": null,
      "grid_column": null,
      "grid_gap": null,
      "grid_row": null,
      "grid_template_areas": null,
      "grid_template_columns": null,
      "grid_template_rows": null,
      "height": null,
      "justify_content": null,
      "justify_items": null,
      "left": null,
      "margin": null,
      "max_height": null,
      "max_width": null,
      "min_height": null,
      "min_width": null,
      "object_fit": null,
      "object_position": null,
      "order": null,
      "overflow": null,
      "overflow_x": null,
      "overflow_y": null,
      "padding": null,
      "right": null,
      "top": null,
      "visibility": null,
      "width": null
     }
    },
    "7681e698fe184dabb12a0baed90f6f2a": {
     "model_module": "@jupyter-widgets/base",
     "model_module_version": "1.2.0",
     "model_name": "LayoutModel",
     "state": {
      "_model_module": "@jupyter-widgets/base",
      "_model_module_version": "1.2.0",
      "_model_name": "LayoutModel",
      "_view_count": null,
      "_view_module": "@jupyter-widgets/base",
      "_view_module_version": "1.2.0",
      "_view_name": "LayoutView",
      "align_content": null,
      "align_items": null,
      "align_self": null,
      "border": null,
      "bottom": null,
      "display": null,
      "flex": null,
      "flex_flow": null,
      "grid_area": null,
      "grid_auto_columns": null,
      "grid_auto_flow": null,
      "grid_auto_rows": null,
      "grid_column": null,
      "grid_gap": null,
      "grid_row": null,
      "grid_template_areas": null,
      "grid_template_columns": null,
      "grid_template_rows": null,
      "height": null,
      "justify_content": null,
      "justify_items": null,
      "left": null,
      "margin": null,
      "max_height": null,
      "max_width": null,
      "min_height": null,
      "min_width": null,
      "object_fit": null,
      "object_position": null,
      "order": null,
      "overflow": null,
      "overflow_x": null,
      "overflow_y": null,
      "padding": null,
      "right": null,
      "top": null,
      "visibility": null,
      "width": null
     }
    },
    "7b44bb56d4b94422a489d4361fa82989": {
     "model_module": "@jupyter-widgets/controls",
     "model_module_version": "1.5.0",
     "model_name": "ProgressStyleModel",
     "state": {
      "_model_module": "@jupyter-widgets/controls",
      "_model_module_version": "1.5.0",
      "_model_name": "ProgressStyleModel",
      "_view_count": null,
      "_view_module": "@jupyter-widgets/base",
      "_view_module_version": "1.2.0",
      "_view_name": "StyleView",
      "bar_color": null,
      "description_width": ""
     }
    },
    "9ada87b1d0c04577b22072f7296d6744": {
     "model_module": "@jupyter-widgets/controls",
     "model_module_version": "1.5.0",
     "model_name": "HTMLModel",
     "state": {
      "_dom_classes": [],
      "_model_module": "@jupyter-widgets/controls",
      "_model_module_version": "1.5.0",
      "_model_name": "HTMLModel",
      "_view_count": null,
      "_view_module": "@jupyter-widgets/controls",
      "_view_module_version": "1.5.0",
      "_view_name": "HTMLView",
      "description": "",
      "description_tooltip": null,
      "layout": "IPY_MODEL_72cf8ceb774f469883dd5cb9e065d303",
      "placeholder": "​",
      "style": "IPY_MODEL_2a4a88c878794d0f915a35833a0e7c77",
      "value": "Processing: 100%"
     }
    },
    "cb9f4e6a0a2b4b9b879029b2c3286c63": {
     "model_module": "@jupyter-widgets/controls",
     "model_module_version": "1.5.0",
     "model_name": "FloatProgressModel",
     "state": {
      "_dom_classes": [],
      "_model_module": "@jupyter-widgets/controls",
      "_model_module_version": "1.5.0",
      "_model_name": "FloatProgressModel",
      "_view_count": null,
      "_view_module": "@jupyter-widgets/controls",
      "_view_module_version": "1.5.0",
      "_view_name": "ProgressView",
      "bar_style": "",
      "description": "",
      "description_tooltip": null,
      "layout": "IPY_MODEL_7681e698fe184dabb12a0baed90f6f2a",
      "max": 65,
      "min": 0,
      "orientation": "horizontal",
      "style": "IPY_MODEL_7b44bb56d4b94422a489d4361fa82989",
      "value": 65
     }
    },
    "cee0ac4143064fdc8088496e16a7add5": {
     "model_module": "@jupyter-widgets/base",
     "model_module_version": "1.2.0",
     "model_name": "LayoutModel",
     "state": {
      "_model_module": "@jupyter-widgets/base",
      "_model_module_version": "1.2.0",
      "_model_name": "LayoutModel",
      "_view_count": null,
      "_view_module": "@jupyter-widgets/base",
      "_view_module_version": "1.2.0",
      "_view_name": "LayoutView",
      "align_content": null,
      "align_items": null,
      "align_self": null,
      "border": null,
      "bottom": null,
      "display": null,
      "flex": null,
      "flex_flow": null,
      "grid_area": null,
      "grid_auto_columns": null,
      "grid_auto_flow": null,
      "grid_auto_rows": null,
      "grid_column": null,
      "grid_gap": null,
      "grid_row": null,
      "grid_template_areas": null,
      "grid_template_columns": null,
      "grid_template_rows": null,
      "height": null,
      "justify_content": null,
      "justify_items": null,
      "left": null,
      "margin": null,
      "max_height": null,
      "max_width": null,
      "min_height": null,
      "min_width": null,
      "object_fit": null,
      "object_position": null,
      "order": null,
      "overflow": null,
      "overflow_x": null,
      "overflow_y": null,
      "padding": null,
      "right": null,
      "top": null,
      "visibility": null,
      "width": null
     }
    },
    "f0100bcce1ec474c98731ca086b239a6": {
     "model_module": "@jupyter-widgets/controls",
     "model_module_version": "1.5.0",
     "model_name": "DescriptionStyleModel",
     "state": {
      "_model_module": "@jupyter-widgets/controls",
      "_model_module_version": "1.5.0",
      "_model_name": "DescriptionStyleModel",
      "_view_count": null,
      "_view_module": "@jupyter-widgets/base",
      "_view_module_version": "1.2.0",
      "_view_name": "StyleView",
      "description_width": ""
     }
    }
   }
  }
 },
 "nbformat": 4,
 "nbformat_minor": 5
}
